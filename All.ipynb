{
 "cells": [
  {
   "cell_type": "markdown",
   "metadata": {},
   "source": [
    "# Biopython: Introduction"
   ]
  },
  {
   "cell_type": "markdown",
   "metadata": {},
   "source": [
    "## Part 0: A review of object-oriented programming in Python"
   ]
  },
  {
   "cell_type": "markdown",
   "metadata": {},
   "source": [
    "<br>The core of Biopython is built around a few key **_objects_**, so let's take a few minutes to review what that means. \n",
    "\n",
    "<br>In python, when you load in a piece of data, you _label_ your data as a particular object type. When you do that, you can then use a particular set of commands specific to that object, and you cannot use other commands that are only available to different objects.\n",
    "\n",
    "\n",
    "<br>For example, strings and lists are two of the most common objects in Python. They have some things in common, but other commands and attributes are specific to only lists or only strings."
   ]
  },
  {
   "cell_type": "markdown",
   "metadata": {},
   "source": [
    "#### Let's say we have a piece of data that looks like this: Welcome <br>We can label this as a list or a string, making two different objects."
   ]
  },
  {
   "cell_type": "code",
   "execution_count": null,
   "metadata": {},
   "outputs": [],
   "source": [
    "welcome_string = \"Welcome\"\n",
    "welcome_list = [\"W\", \"e\", \"l\", \"c\", \"o\", \"m\", \"e\"]"
   ]
  },
  {
   "cell_type": "markdown",
   "metadata": {},
   "source": [
    "<br>In some ways, these objects **_behave_** the same:"
   ]
  },
  {
   "cell_type": "code",
   "execution_count": null,
   "metadata": {},
   "outputs": [],
   "source": [
    "print(welcome_string[0])\n",
    "print(welcome_list[0])"
   ]
  },
  {
   "cell_type": "markdown",
   "metadata": {},
   "source": [
    "<br>In other ways, they **_behave_** differently:"
   ]
  },
  {
   "cell_type": "code",
   "execution_count": null,
   "metadata": {},
   "outputs": [],
   "source": [
    "excited_string = welcome_string + \"!\"\n",
    "print(excited_string)"
   ]
  },
  {
   "cell_type": "code",
   "execution_count": null,
   "metadata": {},
   "outputs": [],
   "source": [
    "excited_list = welcome_list + \"!\"\n",
    "print(excited_list)"
   ]
  },
  {
   "cell_type": "markdown",
   "metadata": {},
   "source": [
    "<br><br>**_Attributes_** are both _properties_ of our object and _functions_ that can be applied to our object. Some are shared between objects and others are specific to one object. _They are added on at the end of our object._"
   ]
  },
  {
   "cell_type": "markdown",
   "metadata": {},
   "source": [
    "<br>You'll notice that many attributes are **_functions_**, so they are followed by parantheses. Some of those functions require you to enter **_parameters_** inside the parantheses:"
   ]
  },
  {
   "cell_type": "code",
   "execution_count": null,
   "metadata": {},
   "outputs": [],
   "source": [
    "welcome_list.append(\"!\")\n",
    "print(welcome_list)"
   ]
  },
  {
   "cell_type": "markdown",
   "metadata": {},
   "source": [
    "<br>Other functions do not require you to include parameters:"
   ]
  },
  {
   "cell_type": "code",
   "execution_count": null,
   "metadata": {},
   "outputs": [],
   "source": [
    "upper_string = excited_string.upper()\n",
    "print(upper_string)"
   ]
  },
  {
   "cell_type": "markdown",
   "metadata": {},
   "source": [
    "<br>Some functions change the object:"
   ]
  },
  {
   "cell_type": "code",
   "execution_count": null,
   "metadata": {},
   "outputs": [],
   "source": [
    "welcome_list.reverse()\n",
    "print(welcome_list)"
   ]
  },
  {
   "cell_type": "markdown",
   "metadata": {},
   "source": [
    "<br>Others only **_return_** a changed object, without actually changing the object:"
   ]
  },
  {
   "cell_type": "code",
   "execution_count": null,
   "metadata": {},
   "outputs": [],
   "source": [
    "print(upper_string.replace(\"!\", \"?\"))\n",
    "print(upper_string)"
   ]
  },
  {
   "cell_type": "markdown",
   "metadata": {},
   "source": [
    "<br>Some return only True or False:"
   ]
  },
  {
   "cell_type": "code",
   "execution_count": null,
   "metadata": {},
   "outputs": [],
   "source": [
    "upper_string.isupper()"
   ]
  },
  {
   "cell_type": "markdown",
   "metadata": {},
   "source": [
    "<br>You can view all the attributes of an object by using the \"dir\" command:"
   ]
  },
  {
   "cell_type": "code",
   "execution_count": null,
   "metadata": {},
   "outputs": [],
   "source": [
    "dir(welcome_list)"
   ]
  },
  {
   "cell_type": "markdown",
   "metadata": {},
   "source": [
    "<br>You can see that some of the attributes start and end with two underscores. These are sometimes called **_dunder_** functions. They are system functions. They are used by developers when writing new python packages. They do work on their own, but they are not meant for everyday use. "
   ]
  },
  {
   "cell_type": "markdown",
   "metadata": {},
   "source": [
    "<br>Not all object attributes are functions. Some are _properties_ of the object. These do not use parantheses. Let's use one of the dunder attributes for the list object to illustrate an example of this type of attribute.\n",
    "\n",
    "<br>list.\\_\\_doc__ gives us the documentation text for the list object."
   ]
  },
  {
   "cell_type": "code",
   "execution_count": null,
   "metadata": {},
   "outputs": [],
   "source": [
    "welcome_list.__doc__"
   ]
  },
  {
   "cell_type": "markdown",
   "metadata": {},
   "source": [
    "___"
   ]
  },
  {
   "cell_type": "markdown",
   "metadata": {},
   "source": [
    "\n",
    "## <br><br>Part One: The Seq object"
   ]
  },
  {
   "cell_type": "markdown",
   "metadata": {},
   "source": [
    "<br>The first object we are going to work with is the **_Seq_** object. This is a sequence (DNA, protein, etc.)\n",
    "\n",
    "\n",
    "\n",
    "#### <br>Let's import the code only for the Seq object from the Biopython module:"
   ]
  },
  {
   "cell_type": "code",
   "execution_count": null,
   "metadata": {},
   "outputs": [],
   "source": [
    "from Bio.Seq import Seq"
   ]
  },
  {
   "cell_type": "markdown",
   "metadata": {},
   "source": [
    "<br><br>We can enter a sequence from scratch and assign it to a variable. To do this, we use the function we just imported, Seq, to let the computer know that this is a Seq object and not an ordinary string."
   ]
  },
  {
   "cell_type": "code",
   "execution_count": null,
   "metadata": {},
   "outputs": [],
   "source": [
    "my_seq = Seq(\"AGTACACTGGT\")\n",
    "my_seq"
   ]
  },
  {
   "cell_type": "code",
   "execution_count": null,
   "metadata": {},
   "outputs": [],
   "source": [
    "print(my_seq)"
   ]
  },
  {
   "cell_type": "markdown",
   "metadata": {},
   "source": [
    "<br><br>A Seq object actually has two data attributes: the _sequence_, and an _alphabet_ attribute that identifies how the sequence should be read (as DNA, as RNA, as protein, etc.). "
   ]
  },
  {
   "cell_type": "code",
   "execution_count": null,
   "metadata": {},
   "outputs": [],
   "source": [
    "my_seq.alphabet"
   ]
  },
  {
   "cell_type": "markdown",
   "metadata": {},
   "source": [
    "<br><br>Our example sequence is actually a DNA sequence. If it is important, we can tell the computer which alphabet to use. First, we need to import the alphabet for DNA. For more about IUPAC, check out [this link.](https://iupac.org/who-we-are/)"
   ]
  },
  {
   "cell_type": "code",
   "execution_count": null,
   "metadata": {},
   "outputs": [],
   "source": [
    "from Bio.Alphabet import IUPAC"
   ]
  },
  {
   "cell_type": "code",
   "execution_count": null,
   "metadata": {},
   "outputs": [],
   "source": [
    "my_seq.alphabet = IUPAC.unambiguous_dna"
   ]
  },
  {
   "cell_type": "code",
   "execution_count": null,
   "metadata": {},
   "outputs": [],
   "source": [
    "my_seq"
   ]
  },
  {
   "cell_type": "code",
   "execution_count": null,
   "metadata": {},
   "outputs": [],
   "source": [
    "my_seq.alphabet"
   ]
  },
  {
   "cell_type": "markdown",
   "metadata": {},
   "source": [
    "You may notice that the alphabet attribute of the Seq object does not require parantheses. Alphabet is a characteristic of the object, it tells us something about what the object is, instead of a function, which does something to the object."
   ]
  },
  {
   "cell_type": "markdown",
   "metadata": {},
   "source": [
    "<br>Let's view the different attributes of my_seq:"
   ]
  },
  {
   "cell_type": "code",
   "execution_count": null,
   "metadata": {},
   "outputs": [],
   "source": [
    "dir(my_seq)"
   ]
  },
  {
   "cell_type": "markdown",
   "metadata": {},
   "source": [
    "### <br>Exercise 1."
   ]
  },
  {
   "cell_type": "markdown",
   "metadata": {},
   "source": [
    "#### Using the my_seq object we created, try out a few of the attributes listed above. Try to identify 1 that does not use (), 1 that uses () with no parameters given, and 1 that uses () with a given parameter."
   ]
  },
  {
   "cell_type": "code",
   "execution_count": null,
   "metadata": {},
   "outputs": [],
   "source": [
    "#Example of an attribute that uses () with a given parameter:\n",
    "#my_seq.__contains__(\"A\")"
   ]
  },
  {
   "cell_type": "code",
   "execution_count": null,
   "metadata": {},
   "outputs": [],
   "source": []
  },
  {
   "cell_type": "code",
   "execution_count": null,
   "metadata": {},
   "outputs": [],
   "source": []
  },
  {
   "cell_type": "code",
   "execution_count": null,
   "metadata": {},
   "outputs": [],
   "source": []
  },
  {
   "cell_type": "markdown",
   "metadata": {},
   "source": [
    "### <br>Exercise 2."
   ]
  },
  {
   "cell_type": "markdown",
   "metadata": {},
   "source": [
    "#### Create a new object called my_protein with a sequence of MALWMRLLPL. Tell the computer to use the IUPAC alphabet called \"protein\"."
   ]
  },
  {
   "cell_type": "code",
   "execution_count": null,
   "metadata": {},
   "outputs": [],
   "source": [
    "my_protein = Seq(\"MALWMRLLPL\")\n",
    "my_protein.alphabet = IUPAC.protein\n",
    "#Or:\n",
    "#my_protein = Seq(\"MALWMRLLPL\", alphabet=IUPAC.protein)"
   ]
  },
  {
   "cell_type": "markdown",
   "metadata": {},
   "source": [
    "#### <br>The computer knows this is a protein. Will that change which attributes can be applied to this sequence compared to my_seq? Try out a function that you think probably won't work with a protein sequence and see what happens."
   ]
  },
  {
   "cell_type": "code",
   "execution_count": null,
   "metadata": {},
   "outputs": [],
   "source": [
    "my_protein.transcribe()"
   ]
  },
  {
   "cell_type": "markdown",
   "metadata": {},
   "source": [
    "___"
   ]
  },
  {
   "cell_type": "markdown",
   "metadata": {},
   "source": [
    "## <br><br>Part Two: Reading sequence files"
   ]
  },
  {
   "cell_type": "markdown",
   "metadata": {},
   "source": [
    "So far we've worked with a sequence that we entered by hand. More often, however, we'll be working with sequences from files.\n",
    "\n",
    "\n",
    "<br>We can use **_SeqIO_** (that's the letter O) from the Bio module to load many different types of sequence files."
   ]
  },
  {
   "cell_type": "markdown",
   "metadata": {},
   "source": [
    "[Click here to view a list of file types that work with Biopython](https://biopython.org/wiki/SeqIO)"
   ]
  },
  {
   "cell_type": "code",
   "execution_count": null,
   "metadata": {},
   "outputs": [],
   "source": [
    "from Bio import SeqIO"
   ]
  },
  {
   "cell_type": "markdown",
   "metadata": {},
   "source": [
    "<br>**_SeqIO.parse()_** is the function for reading a file that contains multiple sequences. It takes two parameters: the path to the file, and the type of file in lowercase text. <br>\n"
   ]
  },
  {
   "cell_type": "markdown",
   "metadata": {},
   "source": [
    "<br>Let's read in a genbank sequence of the human insulin gene. Our file only contains one sequence. When your file only contains one sequence, you can actually use a different function: **_SeqIO.read()_**. This is because single sequences that are read with SeqIO.parse() do not loop in the same way as files with multiple sequences."
   ]
  },
  {
   "cell_type": "code",
   "execution_count": null,
   "metadata": {},
   "outputs": [],
   "source": [
    "insulin_gene = SeqIO.read(\"sequence.gb\", \"genbank\")"
   ]
  },
  {
   "cell_type": "code",
   "execution_count": null,
   "metadata": {},
   "outputs": [],
   "source": [
    "print(insulin_gene)"
   ]
  },
  {
   "cell_type": "markdown",
   "metadata": {},
   "source": [
    "<br>Let's also read a fasta file with multiple sequences, using the **_SeqIO.parse()_** function:"
   ]
  },
  {
   "cell_type": "code",
   "execution_count": null,
   "metadata": {},
   "outputs": [],
   "source": [
    "multiple_seqs = SeqIO.parse(\"sequence.fasta\", \"fasta\")"
   ]
  },
  {
   "cell_type": "code",
   "execution_count": null,
   "metadata": {},
   "outputs": [],
   "source": [
    "multiple_seqs"
   ]
  },
  {
   "cell_type": "markdown",
   "metadata": {},
   "source": [
    "<br>When you use SeqIO.parse(), the computer creates a **_generator_** object. This means the sequences are not stored in memory, which is great if you want to filter or loop through a very large file that contains many sequences or very long sequences.\n",
    "<br><br>To access the data, we can loop through the generator object and read each sequence that is contained inside."
   ]
  },
  {
   "cell_type": "code",
   "execution_count": null,
   "metadata": {},
   "outputs": [],
   "source": [
    "for i in multiple_seqs:\n",
    "    print(i.id)"
   ]
  },
  {
   "cell_type": "markdown",
   "metadata": {},
   "source": [
    "<br> We can load our file into memory by loading it as a **_dictionary_**. This might make the data easier to parse, especially if you are familiar with dictionaries. To do this, we use the **_SeqIO.parse()_** function (even though we are using only one sequence here) inside the **_SeqIO.to_dict()_** function:"
   ]
  },
  {
   "cell_type": "code",
   "execution_count": null,
   "metadata": {},
   "outputs": [],
   "source": [
    "insulin_dict = SeqIO.to_dict(SeqIO.parse(\"sequence.gb\", \"genbank\"))"
   ]
  },
  {
   "cell_type": "code",
   "execution_count": null,
   "metadata": {},
   "outputs": [],
   "source": [
    "insulin_dict"
   ]
  },
  {
   "cell_type": "markdown",
   "metadata": {},
   "source": [
    "<br>Note: The sequence id is used as the key in the dictionary."
   ]
  },
  {
   "cell_type": "markdown",
   "metadata": {},
   "source": [
    "<br>We can also load our file into memory as a **_list_**. Lists are easy to work with, but they do not allow you to easily reference specific sequence records by a **_key_**. To load as a list, you do not need to use a second SeqIO function; you use the built-in python **_list()_** function around the **_SeqIO.parse()_** function (again, even though we are working with one sequence)."
   ]
  },
  {
   "cell_type": "code",
   "execution_count": null,
   "metadata": {},
   "outputs": [],
   "source": [
    "insulin_list = list(SeqIO.parse(\"sequence.gb\", \"genbank\"))"
   ]
  },
  {
   "cell_type": "code",
   "execution_count": null,
   "metadata": {},
   "outputs": [],
   "source": [
    "insulin_list"
   ]
  },
  {
   "cell_type": "markdown",
   "metadata": {},
   "source": [
    "<br>To summarize, when working with single sequences, you use SeqIO.read() when reading the file as a generator object, and SeqIO.parse() when loading the file to memory as a list or dictionary."
   ]
  },
  {
   "cell_type": "markdown",
   "metadata": {},
   "source": [
    "### <br>Exercise 3."
   ]
  },
  {
   "cell_type": "markdown",
   "metadata": {},
   "source": [
    "#### Load in the fasta file, sequence.fasta, as a dictionary called fasta_dict. You will use \"fasta\" as the file type.\n",
    "#### <br>This fasta file was downloaded from NCBI. It contains human insulin sequences on chromosome 11 of length between 100 and 10,000 bp."
   ]
  },
  {
   "cell_type": "code",
   "execution_count": null,
   "metadata": {},
   "outputs": [],
   "source": [
    "fasta_dict = SeqIO.to_dict(SeqIO.parse(\"sequence.fasta\", \"fasta\"))"
   ]
  },
  {
   "cell_type": "markdown",
   "metadata": {},
   "source": [
    "#### <br>How many sequences are in fasta_dict?"
   ]
  },
  {
   "cell_type": "code",
   "execution_count": null,
   "metadata": {},
   "outputs": [],
   "source": [
    "len(fasta_dict)"
   ]
  },
  {
   "cell_type": "markdown",
   "metadata": {},
   "source": [
    "#### Print the sequence with id \"NG_052838.1\"."
   ]
  },
  {
   "cell_type": "code",
   "execution_count": null,
   "metadata": {},
   "outputs": [],
   "source": [
    "fasta_dict[\"NG_052838.1\"]"
   ]
  },
  {
   "cell_type": "markdown",
   "metadata": {},
   "source": [
    "___"
   ]
  },
  {
   "cell_type": "markdown",
   "metadata": {},
   "source": [
    "## <br><br>Part Three: The SeqRecord object"
   ]
  },
  {
   "cell_type": "markdown",
   "metadata": {},
   "source": [
    "<br> There are several different sequence file types (too many!). Most contain more information than just the sequence. \n",
    "\n",
    "\n",
    "<br>A **_SeqRecord_** is another object that has its own attributes and functions. The **_Seq_** object that we learned above is one attribute of the SeqRecord. The Seq object retains all of its own attributes and functions, so you can think of it as a sub-object inside the SeqRecord object. \n",
    "\n",
    "\n",
    "<br>When we loaded our insulin sequence above, both as a generator object and as a dictionary, SeqIO labelled each record as a SeqRecord object. Let's look at one SeqRecord:"
   ]
  },
  {
   "cell_type": "code",
   "execution_count": null,
   "metadata": {},
   "outputs": [],
   "source": [
    "insulin = insulin_dict['NC_000011.10']"
   ]
  },
  {
   "cell_type": "code",
   "execution_count": null,
   "metadata": {},
   "outputs": [],
   "source": [
    "insulin"
   ]
  },
  {
   "cell_type": "markdown",
   "metadata": {},
   "source": [
    "Let's see what attributes this object has:"
   ]
  },
  {
   "cell_type": "code",
   "execution_count": null,
   "metadata": {},
   "outputs": [],
   "source": [
    "dir(insulin)"
   ]
  },
  {
   "cell_type": "markdown",
   "metadata": {},
   "source": [
    "<br>We can print attributes from our record:"
   ]
  },
  {
   "cell_type": "code",
   "execution_count": null,
   "metadata": {},
   "outputs": [],
   "source": [
    "insulin.description"
   ]
  },
  {
   "cell_type": "code",
   "execution_count": null,
   "metadata": {},
   "outputs": [],
   "source": [
    "insulin.seq"
   ]
  },
  {
   "cell_type": "code",
   "execution_count": null,
   "metadata": {},
   "outputs": [],
   "source": [
    "insulin.seq.alphabet"
   ]
  },
  {
   "cell_type": "markdown",
   "metadata": {},
   "source": [
    "___"
   ]
  },
  {
   "cell_type": "markdown",
   "metadata": {},
   "source": [
    "### <br>Part Four: Parsing records"
   ]
  },
  {
   "cell_type": "markdown",
   "metadata": {},
   "source": [
    "Biopython allows us to filter and transform our sequences in bulk.\n",
    "<br><br>We have learned three ways to read a sequence file: as a generator object that is not loaded into memory, as a list, and as a dictionary with sequence ids as the keys. It is up to you to decide which way to read your sequences depending on the question."
   ]
  },
  {
   "cell_type": "markdown",
   "metadata": {},
   "source": [
    "___"
   ]
  },
  {
   "cell_type": "markdown",
   "metadata": {},
   "source": [
    "#### Python review:\n",
    "\n",
    "If you are using a dictionary, you'll need to remember the rules for looping through python dictionaries. You use different attributes for looping through the dictionary keys, the dictionary values, or both. \n",
    "\n",
    "<br>The next exercise uses **_dict.keys()_**, **_dict.values()_**, and **_dict.items()_** to loop through a dictionary."
   ]
  },
  {
   "cell_type": "markdown",
   "metadata": {},
   "source": [
    "### <br>Exercise 4"
   ]
  },
  {
   "cell_type": "code",
   "execution_count": null,
   "metadata": {},
   "outputs": [],
   "source": [
    "sample_dict = {\"bird\": \"goose\", \"mammal\": \"squirrel\", \"fish\": \"trout\"}"
   ]
  },
  {
   "cell_type": "markdown",
   "metadata": {},
   "source": [
    "#### For the next three code cells, before you run the cell, write down on a piece of paper what you expect to see as output. Then run the cell and see if you were right."
   ]
  },
  {
   "cell_type": "code",
   "execution_count": null,
   "metadata": {},
   "outputs": [],
   "source": [
    "for k in sample_dict.keys():\n",
    "    print(\"Key:\")\n",
    "    print(k)\n",
    "    print(\"Value:\")\n",
    "    print(sample_dict[k])"
   ]
  },
  {
   "cell_type": "code",
   "execution_count": null,
   "metadata": {},
   "outputs": [],
   "source": [
    "for value in sample_dict.values():\n",
    "    print(value)"
   ]
  },
  {
   "cell_type": "code",
   "execution_count": null,
   "metadata": {},
   "outputs": [],
   "source": [
    "for animal_type, animal_name in sample_dict.items():\n",
    "    print(animal_name + \" is a \" + animal_type)"
   ]
  },
  {
   "cell_type": "markdown",
   "metadata": {},
   "source": [
    "<br><br>Another important thing to remember about Python objects is that if you make a copy of the object by assigning one variable to the original, any changes you make to one object will also be made to the other:"
   ]
  },
  {
   "cell_type": "code",
   "execution_count": null,
   "metadata": {},
   "outputs": [],
   "source": [
    "list1 = [3, 4, 5]\n",
    "list2 = list1\n",
    "list2.append(9)\n",
    "print(list1)\n",
    "print(list2)"
   ]
  },
  {
   "cell_type": "markdown",
   "metadata": {},
   "source": [
    "We can get around this by assigning both variables to the same original object rather than referencing one variable when assigning the other:"
   ]
  },
  {
   "cell_type": "code",
   "execution_count": null,
   "metadata": {},
   "outputs": [],
   "source": [
    "list1 = [3, 4, 5]\n",
    "list2 = [3, 4, 5]\n",
    "list2.append(9)\n",
    "print(list1)\n",
    "print(list2)"
   ]
  },
  {
   "cell_type": "markdown",
   "metadata": {},
   "source": [
    "___"
   ]
  },
  {
   "cell_type": "markdown",
   "metadata": {},
   "source": [
    "#### <br>  Let's write a loop to make a new dictionary that returns the reverse complements of all the sequences in the fasta_dict."
   ]
  },
  {
   "cell_type": "markdown",
   "metadata": {},
   "source": [
    "In case you changed it in the previous exercise, we will reload the fasta_dict first:"
   ]
  },
  {
   "cell_type": "code",
   "execution_count": null,
   "metadata": {},
   "outputs": [],
   "source": [
    "fasta_dict = SeqIO.to_dict(SeqIO.parse(\"sequence.fasta\", \"fasta\"))"
   ]
  },
  {
   "cell_type": "markdown",
   "metadata": {},
   "source": [
    "<br>We will also load in the same dictionary with a new name, since we can't copy the fasta_dict without changing the original:"
   ]
  },
  {
   "cell_type": "code",
   "execution_count": null,
   "metadata": {},
   "outputs": [],
   "source": [
    "reverse_dict = SeqIO.to_dict(SeqIO.parse(\"sequence.fasta\", \"fasta\"))"
   ]
  },
  {
   "cell_type": "markdown",
   "metadata": {},
   "source": [
    "Finally, we change the **_Seq_** object for each record in the reverse_dict:"
   ]
  },
  {
   "cell_type": "code",
   "execution_count": null,
   "metadata": {},
   "outputs": [],
   "source": [
    "for record in reverse_dict.values():\n",
    "    record.seq = record.seq.reverse_complement()"
   ]
  },
  {
   "cell_type": "markdown",
   "metadata": {},
   "source": [
    "<br> We can test the output by looking at the same sequence in the original dictionary and in the reversed dictionary:"
   ]
  },
  {
   "cell_type": "code",
   "execution_count": null,
   "metadata": {},
   "outputs": [],
   "source": [
    "fasta_dict[\"NG_052838.1\"]"
   ]
  },
  {
   "cell_type": "markdown",
   "metadata": {},
   "source": [
    "#### Before you run the next cell, what do you think the first and last three nucleotides will be in the reverse_dict for this sequence?"
   ]
  },
  {
   "cell_type": "code",
   "execution_count": null,
   "metadata": {},
   "outputs": [],
   "source": [
    "reverse_dict[\"NG_052838.1\"]"
   ]
  },
  {
   "cell_type": "markdown",
   "metadata": {},
   "source": [
    "### <br>Exercise 5"
   ]
  },
  {
   "cell_type": "markdown",
   "metadata": {},
   "source": [
    "#### Our fasta_dict contains some minisatellite sequences, which we do not want to include. (Minisatellites are parts of the genome with a high number of repeated DNA segments and are useful for studying population level genetic diversity.) Minisatellites are short, but we cannot filter by length because there are some short exon sequences that we do want to keep. <br>\n",
    "#### <br> Create a new dictionary called reduced_dict. Use a loop to only include sequences that do not contain the word \"minisatellite\" in the SeqRecord description."
   ]
  },
  {
   "cell_type": "code",
   "execution_count": null,
   "metadata": {},
   "outputs": [],
   "source": [
    "reduced_dict = {}"
   ]
  },
  {
   "cell_type": "code",
   "execution_count": null,
   "metadata": {},
   "outputs": [],
   "source": [
    "for id, record in fasta_dict.items():\n",
    "    if \"minisatellite\" not in record.description:\n",
    "        reduced_dict[id] = record"
   ]
  },
  {
   "cell_type": "markdown",
   "metadata": {},
   "source": [
    "#### How many sequences are in the reduced_dict?"
   ]
  },
  {
   "cell_type": "code",
   "execution_count": null,
   "metadata": {},
   "outputs": [],
   "source": [
    "len(reduced_dict)"
   ]
  },
  {
   "cell_type": "markdown",
   "metadata": {},
   "source": [
    "#### Print the length of each sequence in the dictionary."
   ]
  },
  {
   "cell_type": "code",
   "execution_count": null,
   "metadata": {},
   "outputs": [],
   "source": [
    "for id in reduced_dict.keys():\n",
    "    print(len(reduced_dict[id]))\n",
    "#OR:    \n",
    "#for v in reduced_dict.values():\n",
    "#    print(len(v.seq))"
   ]
  },
  {
   "cell_type": "markdown",
   "metadata": {},
   "source": [
    "___"
   ]
  },
  {
   "cell_type": "markdown",
   "metadata": {},
   "source": [
    "## <br>Part Five: Writing files"
   ]
  },
  {
   "cell_type": "markdown",
   "metadata": {},
   "source": [
    "Writing files is easy. **_SeqIO.write()_** takes three parameters: the data to write, the name for saving the file, and the file type."
   ]
  },
  {
   "cell_type": "code",
   "execution_count": null,
   "metadata": {},
   "outputs": [],
   "source": [
    "SeqIO.write(reduced_dict.values(), \"insulinGenes.fasta\", \"fasta\")"
   ]
  },
  {
   "cell_type": "markdown",
   "metadata": {},
   "source": [
    "The **_SeqIO.write()_** function returns the number of sequences that were written."
   ]
  },
  {
   "cell_type": "markdown",
   "metadata": {},
   "source": [
    "<br>You can save the genes in a file type that is different than the original file type, but different types have different requirements. For example, let's try this:"
   ]
  },
  {
   "cell_type": "code",
   "execution_count": null,
   "metadata": {},
   "outputs": [],
   "source": [
    "SeqIO.write(reduced_dict.values(), \"insulinGenes.gb\", \"genbank\")"
   ]
  },
  {
   "cell_type": "markdown",
   "metadata": {},
   "source": [
    "<br>Let's practice parsing sequence records by adding an alphabet to the sequences in reduced_dict so that we can save the file as a genbank file.\n",
    "<br><br>If you remember, record.seq.alphabet is a property of the **_Seq_** object record.seq. Once you assign it an alphabet, it changes the object."
   ]
  },
  {
   "cell_type": "code",
   "execution_count": null,
   "metadata": {},
   "outputs": [],
   "source": [
    "for record in reduced_dict.values():\n",
    "    record.seq.alphabet = IUPAC.unambiguous_dna"
   ]
  },
  {
   "cell_type": "markdown",
   "metadata": {},
   "source": [
    "<br>Let's try again to write the genbank file:"
   ]
  },
  {
   "cell_type": "code",
   "execution_count": null,
   "metadata": {},
   "outputs": [],
   "source": [
    "SeqIO.write(reduced_dict.values(), \"insulinGenes.gb\", \"genbank\")"
   ]
  },
  {
   "cell_type": "markdown",
   "metadata": {},
   "source": [
    "___"
   ]
  },
  {
   "cell_type": "markdown",
   "metadata": {},
   "source": [
    "## <br>Part Six: Converting between file formats"
   ]
  },
  {
   "cell_type": "markdown",
   "metadata": {},
   "source": [
    "<br>In theory, it is very easy to convert between file formats. You just parse a file and then write a file:"
   ]
  },
  {
   "cell_type": "code",
   "execution_count": null,
   "metadata": {},
   "outputs": [],
   "source": [
    "insulin_sequence = SeqIO.parse(\"sequence.gb\", \"genbank\")\n",
    "SeqIO.write(insulin_sequence, \"insulin_sequence_fasta.fa\", \"fasta\")"
   ]
  },
  {
   "cell_type": "markdown",
   "metadata": {},
   "source": [
    "<br>Biopython can also handle the special needs of **_Multiple Sequence Alignments_** (MSAs). Instead of using **_SeqIO_**, we use **_AlignIO_**:"
   ]
  },
  {
   "cell_type": "code",
   "execution_count": null,
   "metadata": {},
   "outputs": [],
   "source": [
    "from Bio import AlignIO"
   ]
  },
  {
   "cell_type": "markdown",
   "metadata": {},
   "source": [
    "<br>We can use **_AlignIO_** to convert a ClustalW file to a fasta file of alignments. Just like with SeqIO, if your sequence contains only one alignment, you use **_AlignIO.read()_** instead of **_AlignIO.parse()_**. Note that a single alignment contains multiple sequences, but is still considered a single alignment."
   ]
  },
  {
   "cell_type": "code",
   "execution_count": null,
   "metadata": {},
   "outputs": [],
   "source": [
    "insulin_alignments = AlignIO.read(\"clustalAlignment.aln\", \"clustal\")\n",
    "AlignIO.write(insulin_alignments, \"fastaAlignment.fa\", \"fasta\")"
   ]
  },
  {
   "cell_type": "markdown",
   "metadata": {},
   "source": [
    "Note that I used the generator object to read the original file in both the SeqIO and AlignIO examples."
   ]
  },
  {
   "cell_type": "markdown",
   "metadata": {},
   "source": [
    "<br>In reality, most file formats include different information or have different requirements, making it not so easy to convert between formats. Let's try to convert our clustalAlignment.aln file into a phylip file:"
   ]
  },
  {
   "cell_type": "code",
   "execution_count": null,
   "metadata": {},
   "outputs": [],
   "source": [
    "insulin_alignments = AlignIO.read(\"clustalAlignment.aln\", \"clustal\")\n",
    "AlignIO.write(insulin_alignments, \"phylipAlignment.phy\", \"phylip\")"
   ]
  },
  {
   "cell_type": "markdown",
   "metadata": {},
   "source": [
    "<br>The phylip format shortens all sequence names to only 10 characters, but our file has long sequence names in which the first 10 characters are identical."
   ]
  },
  {
   "cell_type": "markdown",
   "metadata": {},
   "source": [
    "### <br>Exercise 6"
   ]
  },
  {
   "cell_type": "markdown",
   "metadata": {},
   "source": [
    "#### This exercise will combine everything we've learned so far. We need to convert the clustalAlignment.aln file into a phylip file, but we received the error above. "
   ]
  },
  {
   "cell_type": "markdown",
   "metadata": {},
   "source": [
    "#### Think through how you will do this. You might need to look at the original file to see how it is formatted. On a piece of paper, write down the steps you will need to take before beginning to code. There are several different solutions to this problem."
   ]
  },
  {
   "cell_type": "code",
   "execution_count": null,
   "metadata": {},
   "outputs": [],
   "source": [
    "alignment = AlignIO.read(\"clustalAlignment.aln\", \"clustal\")"
   ]
  },
  {
   "cell_type": "code",
   "execution_count": null,
   "metadata": {},
   "outputs": [],
   "source": [
    "name_dict = {}\n",
    "n = 1\n",
    "for record in alignment:\n",
    "    name_dict[record.id] = \"seq\" + str(n)\n",
    "    record.id = name_dict[record.id]\n",
    "    n +=1\n",
    "\n",
    "AlignIO.write([alignment], \"phylipAlignment.phy\", \"phylip\")\n",
    "\n",
    "#And then you would print the dictionary so that you can reference it later."
   ]
  },
  {
   "cell_type": "code",
   "execution_count": null,
   "metadata": {},
   "outputs": [],
   "source": []
  },
  {
   "cell_type": "code",
   "execution_count": null,
   "metadata": {},
   "outputs": [],
   "source": []
  },
  {
   "cell_type": "code",
   "execution_count": null,
   "metadata": {},
   "outputs": [],
   "source": []
  },
  {
   "cell_type": "code",
   "execution_count": null,
   "metadata": {},
   "outputs": [],
   "source": []
  },
  {
   "cell_type": "markdown",
   "metadata": {},
   "source": [
    "___"
   ]
  },
  {
   "cell_type": "markdown",
   "metadata": {},
   "source": [
    "## <br>Part Seven: Running BLAST"
   ]
  },
  {
   "cell_type": "markdown",
   "metadata": {},
   "source": [
    "NCBI BLAST allows you to compare your sequence with all sequences that are in the NCBI database. However, the output can be difficult to parse."
   ]
  },
  {
   "cell_type": "markdown",
   "metadata": {},
   "source": [
    "<br> First, let's import the **_qblast()_** function from the Bio module:"
   ]
  },
  {
   "cell_type": "code",
   "execution_count": null,
   "metadata": {},
   "outputs": [],
   "source": [
    "from Bio.Blast.NCBIWWW import qblast"
   ]
  },
  {
   "cell_type": "markdown",
   "metadata": {},
   "source": [
    "The **_qblast()_** function takes three required arguments: the BLAST program to use for the search, the database to search, and a string of your sequence of interest. Other arguments are available that match the options on the BLAST website GUI.\n",
    "<br><br>Earlier we created a SeqRecord object called insulin that we will use as our query string."
   ]
  },
  {
   "cell_type": "code",
   "execution_count": null,
   "metadata": {},
   "outputs": [],
   "source": [
    "insulin"
   ]
  },
  {
   "cell_type": "code",
   "execution_count": null,
   "metadata": {},
   "outputs": [],
   "source": [
    "results = qblast(\"blastn\", \"nt\", insulin.seq)"
   ]
  },
  {
   "cell_type": "markdown",
   "metadata": {},
   "source": [
    "_(The command above will take a few minutes to run.)_"
   ]
  },
  {
   "cell_type": "markdown",
   "metadata": {},
   "source": [
    "Because these results take a while to run, it is a good idea to save your searches for later use:"
   ]
  },
  {
   "cell_type": "code",
   "execution_count": null,
   "metadata": {},
   "outputs": [],
   "source": [
    "with open(\"my_blast.xml\", \"w\") as out_handle:\n",
    "    out_handle.write(results.read())\n",
    "results.close()"
   ]
  },
  {
   "cell_type": "markdown",
   "metadata": {},
   "source": [
    "<br>To parse the results, which were returned as a .xml file, we import this object:"
   ]
  },
  {
   "cell_type": "code",
   "execution_count": null,
   "metadata": {},
   "outputs": [],
   "source": [
    "from Bio.Blast import NCBIXML"
   ]
  },
  {
   "cell_type": "markdown",
   "metadata": {},
   "source": [
    "<br>**_NCBIXML_** has a function called **_parse()_** that we can use to change our results into a readable record IF we ran qblast on multiple query sequences. Additionally, when we use **_parse()_**, our results can only be read or looped through once without reloading the results, since results can be large.\n",
    "<br><br>If we only ran one query sequence, we can use a function called **_read()_**. First we reopen the results file that we saved of our BLAST output:"
   ]
  },
  {
   "cell_type": "code",
   "execution_count": null,
   "metadata": {},
   "outputs": [],
   "source": [
    "results = open(\"my_blast.xml\")\n",
    "blast_record = NCBIXML.read(results)"
   ]
  },
  {
   "cell_type": "markdown",
   "metadata": {},
   "source": [
    "<br>We can loop through the **_blast record object_**. It is a much more complicated object than the others we have worked with.  Here I am printing the name and score of all BLAST matches with a score greater than 40,000."
   ]
  },
  {
   "cell_type": "code",
   "execution_count": null,
   "metadata": {},
   "outputs": [],
   "source": [
    "for alignment in blast_record.alignments:\n",
    "    for hsp in alignment.hsps:\n",
    "        if hsp.score > 40000:\n",
    "            print(\"****Alignment****\")\n",
    "            print(\"sequence:\", alignment.title)\n",
    "            print(\"score:\", hsp.score)"
   ]
  },
  {
   "cell_type": "markdown",
   "metadata": {},
   "source": [
    "<br>This link will show you all the attributes of a BLAST output file that can be used for parsing: http://biopython.org/DIST/docs/tutorial/Tutorial#fig:blastrecord"
   ]
  },
  {
   "cell_type": "markdown",
   "metadata": {},
   "source": [
    "<br>Another example of parsing BLAST output:"
   ]
  },
  {
   "cell_type": "code",
   "execution_count": null,
   "metadata": {},
   "outputs": [],
   "source": [
    "c11_list = []\n",
    "for alignment in blast_record.alignments:\n",
    "    if \"chromosome 11\" in alignment.title:\n",
    "        c11_list.append(alignment.title)"
   ]
  },
  {
   "cell_type": "code",
   "execution_count": null,
   "metadata": {},
   "outputs": [],
   "source": [
    "c11_list"
   ]
  },
  {
   "cell_type": "markdown",
   "metadata": {},
   "source": [
    "___"
   ]
  },
  {
   "cell_type": "markdown",
   "metadata": {},
   "source": [
    "### <br><br>Bonus exercise"
   ]
  },
  {
   "cell_type": "markdown",
   "metadata": {},
   "source": [
    "#### <br>Write a script in your text editor of choice (or use the text editor built into Jupyter Lab). The script should take a fasta file with multiple sequences and write a new fasta file with only sequences greater than 200 base pairs in length. You can use the file \"sequences.fasta\" to practice. Remember that your script will have to import the correct commands from the Bio module."
   ]
  },
  {
   "cell_type": "markdown",
   "metadata": {},
   "source": [
    "#### If you are a more advanced Python programmer, use the sys module to read the input file name from the command line."
   ]
  }
 ],
 "metadata": {
  "kernelspec": {
   "display_name": "Python 3",
   "language": "python",
   "name": "python3"
  },
  "language_info": {
   "codemirror_mode": {
    "name": "ipython",
    "version": 3
   },
   "file_extension": ".py",
   "mimetype": "text/x-python",
   "name": "python",
   "nbconvert_exporter": "python",
   "pygments_lexer": "ipython3",
   "version": "3.7.3"
  }
 },
 "nbformat": 4,
 "nbformat_minor": 4
}
