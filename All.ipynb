{
 "cells": [
  {
   "cell_type": "markdown",
   "metadata": {},
   "source": [
    "**This is a Jupyter Notebook. To run a gray code cell, click in the cell and either press the \"play\" button (triangle pointing right) or hit shift+enter (or shift+return).**"
   ]
  },
  {
   "cell_type": "code",
   "execution_count": null,
   "metadata": {},
   "outputs": [],
   "source": [
    "2 + 2"
   ]
  },
  {
   "cell_type": "markdown",
   "metadata": {},
   "source": [
    "### <br>If you are using Google Colab ONLY:"
   ]
  },
  {
   "cell_type": "markdown",
   "metadata": {},
   "source": [
    "Colab users need to run the following cell to load the practice files."
   ]
  },
  {
   "cell_type": "code",
   "execution_count": null,
   "metadata": {},
   "outputs": [],
   "source": [
    "!wget https://raw.githubusercontent.com/aGitHasNoName/Biopython/master/clustalAlignment.aln\n",
    "!wget https://raw.githubusercontent.com/aGitHasNoName/Biopython/master/my_blast.xml\n",
    "!wget https://raw.githubusercontent.com/aGitHasNoName/Biopython/master/sequence.fasta\n",
    "!wget https://raw.githubusercontent.com/aGitHasNoName/Biopython/master/sequence.gb\n"
   ]
  },
  {
   "cell_type": "markdown",
   "metadata": {},
   "source": [
    "# <br><br>Biopython: Introduction"
   ]
  },
  {
   "cell_type": "markdown",
   "metadata": {},
   "source": [
    "## Part 0: A review of object-oriented programming in Python"
   ]
  },
  {
   "cell_type": "markdown",
   "metadata": {},
   "source": [
    "<br>The core of Biopython is built around a few key **_objects_**, so let's take a few minutes to review what that means. \n",
    "\n",
    "<br>In python, when you load in a piece of data, you _label_ your data as a particular object type. When you do that, you can then use a particular set of commands specific to that object, and you cannot use other commands that are only available to different objects.\n",
    "\n",
    "\n",
    "<br>For example, strings and lists are two of the most common objects in Python. They have some things in common, but other commands and attributes are specific to only lists or only strings."
   ]
  },
  {
   "cell_type": "markdown",
   "metadata": {},
   "source": [
    "#### Let's say we have a piece of data that looks like this: Welcome <br>We can label this as a list or a string, making two different objects."
   ]
  },
  {
   "cell_type": "code",
   "execution_count": 1,
   "metadata": {},
   "outputs": [],
   "source": [
    "welcome_string = \"Welcome\"\n",
    "welcome_list = [\"W\", \"e\", \"l\", \"c\", \"o\", \"m\", \"e\"]"
   ]
  },
  {
   "cell_type": "markdown",
   "metadata": {},
   "source": [
    "<br>In some ways, these objects **_behave_** the same:"
   ]
  },
  {
   "cell_type": "code",
   "execution_count": 2,
   "metadata": {},
   "outputs": [
    {
     "name": "stdout",
     "output_type": "stream",
     "text": [
      "W\n",
      "W\n"
     ]
    }
   ],
   "source": [
    "print(welcome_string[0])\n",
    "print(welcome_list[0])"
   ]
  },
  {
   "cell_type": "markdown",
   "metadata": {},
   "source": [
    "<br>In other ways, they **_behave_** differently:"
   ]
  },
  {
   "cell_type": "code",
   "execution_count": 3,
   "metadata": {},
   "outputs": [
    {
     "name": "stdout",
     "output_type": "stream",
     "text": [
      "Welcome!\n"
     ]
    }
   ],
   "source": [
    "excited_string = welcome_string + \"!\"\n",
    "print(excited_string)"
   ]
  },
  {
   "cell_type": "code",
   "execution_count": 4,
   "metadata": {},
   "outputs": [
    {
     "ename": "TypeError",
     "evalue": "can only concatenate list (not \"str\") to list",
     "output_type": "error",
     "traceback": [
      "\u001b[0;31m---------------------------------------------------------------------------\u001b[0m",
      "\u001b[0;31mTypeError\u001b[0m                                 Traceback (most recent call last)",
      "\u001b[0;32m<ipython-input-4-e8f1e5c382c8>\u001b[0m in \u001b[0;36m<module>\u001b[0;34m\u001b[0m\n\u001b[0;32m----> 1\u001b[0;31m \u001b[0mexcited_list\u001b[0m \u001b[0;34m=\u001b[0m \u001b[0mwelcome_list\u001b[0m \u001b[0;34m+\u001b[0m \u001b[0;34m\"!\"\u001b[0m\u001b[0;34m\u001b[0m\u001b[0;34m\u001b[0m\u001b[0m\n\u001b[0m\u001b[1;32m      2\u001b[0m \u001b[0mprint\u001b[0m\u001b[0;34m(\u001b[0m\u001b[0mexcited_list\u001b[0m\u001b[0;34m)\u001b[0m\u001b[0;34m\u001b[0m\u001b[0;34m\u001b[0m\u001b[0m\n",
      "\u001b[0;31mTypeError\u001b[0m: can only concatenate list (not \"str\") to list"
     ]
    }
   ],
   "source": [
    "excited_list = welcome_list + \"!\"\n",
    "print(excited_list)"
   ]
  },
  {
   "cell_type": "markdown",
   "metadata": {},
   "source": [
    "<br><br>**Attributes** are *properties* of our object. <br>**Methods** are *functions* that can be applied to our object. <br>Both are added on at the end of our object. <br>Some are shared between objects and others are specific to one object."
   ]
  },
  {
   "cell_type": "markdown",
   "metadata": {},
   "source": [
    "<br>Methods are followed by parantheses. Some of those functions require you to enter **parameters** inside the parantheses:"
   ]
  },
  {
   "cell_type": "code",
   "execution_count": 5,
   "metadata": {},
   "outputs": [
    {
     "name": "stdout",
     "output_type": "stream",
     "text": [
      "['W', 'e', 'l', 'c', 'o', 'm', 'e', '!']\n"
     ]
    }
   ],
   "source": [
    "welcome_list.append(\"!\")\n",
    "print(welcome_list)"
   ]
  },
  {
   "cell_type": "markdown",
   "metadata": {},
   "source": [
    "<br>Other functions do not require you to include parameters:"
   ]
  },
  {
   "cell_type": "code",
   "execution_count": 6,
   "metadata": {},
   "outputs": [
    {
     "name": "stdout",
     "output_type": "stream",
     "text": [
      "WELCOME!\n"
     ]
    }
   ],
   "source": [
    "upper_string = excited_string.upper()\n",
    "print(upper_string)"
   ]
  },
  {
   "cell_type": "markdown",
   "metadata": {},
   "source": [
    "<br>Some functions change the object:"
   ]
  },
  {
   "cell_type": "code",
   "execution_count": 7,
   "metadata": {},
   "outputs": [
    {
     "name": "stdout",
     "output_type": "stream",
     "text": [
      "['!', 'e', 'm', 'o', 'c', 'l', 'e', 'W']\n"
     ]
    }
   ],
   "source": [
    "welcome_list.reverse()\n",
    "print(welcome_list)"
   ]
  },
  {
   "cell_type": "markdown",
   "metadata": {},
   "source": [
    "<br>Others only **_return_** a changed object, without actually changing the object:"
   ]
  },
  {
   "cell_type": "code",
   "execution_count": 8,
   "metadata": {},
   "outputs": [
    {
     "name": "stdout",
     "output_type": "stream",
     "text": [
      "WELCOME?\n",
      "WELCOME!\n"
     ]
    }
   ],
   "source": [
    "print(upper_string.replace(\"!\", \"?\"))\n",
    "print(upper_string)"
   ]
  },
  {
   "cell_type": "markdown",
   "metadata": {},
   "source": [
    "<br>Some return only True or False:"
   ]
  },
  {
   "cell_type": "code",
   "execution_count": 9,
   "metadata": {},
   "outputs": [
    {
     "data": {
      "text/plain": [
       "True"
      ]
     },
     "execution_count": 9,
     "metadata": {},
     "output_type": "execute_result"
    }
   ],
   "source": [
    "upper_string.isupper()"
   ]
  },
  {
   "cell_type": "markdown",
   "metadata": {},
   "source": [
    "<br>You can view all the attributes and methods of an object by using the \"dir\" command:"
   ]
  },
  {
   "cell_type": "code",
   "execution_count": 10,
   "metadata": {},
   "outputs": [
    {
     "data": {
      "text/plain": [
       "['__add__',\n",
       " '__class__',\n",
       " '__contains__',\n",
       " '__delattr__',\n",
       " '__delitem__',\n",
       " '__dir__',\n",
       " '__doc__',\n",
       " '__eq__',\n",
       " '__format__',\n",
       " '__ge__',\n",
       " '__getattribute__',\n",
       " '__getitem__',\n",
       " '__gt__',\n",
       " '__hash__',\n",
       " '__iadd__',\n",
       " '__imul__',\n",
       " '__init__',\n",
       " '__init_subclass__',\n",
       " '__iter__',\n",
       " '__le__',\n",
       " '__len__',\n",
       " '__lt__',\n",
       " '__mul__',\n",
       " '__ne__',\n",
       " '__new__',\n",
       " '__reduce__',\n",
       " '__reduce_ex__',\n",
       " '__repr__',\n",
       " '__reversed__',\n",
       " '__rmul__',\n",
       " '__setattr__',\n",
       " '__setitem__',\n",
       " '__sizeof__',\n",
       " '__str__',\n",
       " '__subclasshook__',\n",
       " 'append',\n",
       " 'clear',\n",
       " 'copy',\n",
       " 'count',\n",
       " 'extend',\n",
       " 'index',\n",
       " 'insert',\n",
       " 'pop',\n",
       " 'remove',\n",
       " 'reverse',\n",
       " 'sort']"
      ]
     },
     "execution_count": 10,
     "metadata": {},
     "output_type": "execute_result"
    }
   ],
   "source": [
    "dir(welcome_list)"
   ]
  },
  {
   "cell_type": "markdown",
   "metadata": {},
   "source": [
    "<br>You can see that some of the attributes start and end with two underscores. These are sometimes called **_dunder_** functions. They are system functions. They are used by developers when writing new python packages. They do work on their own, but they are not meant for everyday use. "
   ]
  },
  {
   "cell_type": "markdown",
   "metadata": {},
   "source": [
    "<br>As a reminder, **attributes** are _properties_ of the object. These do not use parantheses. Let's use one of the dunder attributes for the list object to illustrate an example of this type of attribute.\n",
    "\n",
    "<br>list.\\_\\_doc__ gives us the documentation text for the list object."
   ]
  },
  {
   "cell_type": "code",
   "execution_count": 11,
   "metadata": {},
   "outputs": [
    {
     "data": {
      "text/plain": [
       "'Built-in mutable sequence.\\n\\nIf no argument is given, the constructor creates a new empty list.\\nThe argument must be an iterable if specified.'"
      ]
     },
     "execution_count": 11,
     "metadata": {},
     "output_type": "execute_result"
    }
   ],
   "source": [
    "welcome_list.__doc__"
   ]
  },
  {
   "cell_type": "markdown",
   "metadata": {},
   "source": [
    "___"
   ]
  },
  {
   "cell_type": "markdown",
   "metadata": {},
   "source": [
    "\n",
    "## <br><br>Part One: The Seq object"
   ]
  },
  {
   "cell_type": "markdown",
   "metadata": {},
   "source": [
    "<br>The first object we are going to work with is the **_Seq_** object. This is a sequence (DNA, protein, etc.)\n",
    "\n",
    "\n",
    "\n",
    "#### <br>Let's import the code only for the Seq object from the Biopython module:"
   ]
  },
  {
   "cell_type": "markdown",
   "metadata": {},
   "source": [
    "*Note - if you are running this notebook on Google Colab, you will need to install Biopython before you can import it. **This next cell will work on Google Colab and must be run in order to continue the notebook.** If you are running this notebook on your own computer, this cell might work to install Biopython, but it might not.*"
   ]
  },
  {
   "cell_type": "code",
   "execution_count": null,
   "metadata": {},
   "outputs": [],
   "source": [
    "!pip install Biopython"
   ]
  },
  {
   "cell_type": "markdown",
   "metadata": {},
   "source": [
    "#### <br>Everyone:"
   ]
  },
  {
   "cell_type": "code",
   "execution_count": 12,
   "metadata": {},
   "outputs": [],
   "source": [
    "from Bio.Seq import Seq"
   ]
  },
  {
   "cell_type": "markdown",
   "metadata": {},
   "source": [
    "<br><br>We can enter a sequence from scratch and assign it to a variable. To do this, we use the function we just imported, Seq, to let the computer know that this is a Seq object and not an ordinary string."
   ]
  },
  {
   "cell_type": "code",
   "execution_count": 13,
   "metadata": {},
   "outputs": [
    {
     "data": {
      "text/plain": [
       "Seq('AGTACACTGGT')"
      ]
     },
     "execution_count": 13,
     "metadata": {},
     "output_type": "execute_result"
    }
   ],
   "source": [
    "my_seq = Seq(\"AGTACACTGGT\")\n",
    "my_seq"
   ]
  },
  {
   "cell_type": "code",
   "execution_count": 14,
   "metadata": {},
   "outputs": [
    {
     "name": "stdout",
     "output_type": "stream",
     "text": [
      "AGTACACTGGT\n"
     ]
    }
   ],
   "source": [
    "print(my_seq)"
   ]
  },
  {
   "cell_type": "markdown",
   "metadata": {},
   "source": [
    "<br><br>A Seq object actually has two data attributes: the _sequence_, and an _alphabet_ attribute that identifies how the sequence should be read (as DNA, as RNA, as protein, etc.). "
   ]
  },
  {
   "cell_type": "code",
   "execution_count": 15,
   "metadata": {},
   "outputs": [
    {
     "data": {
      "text/plain": [
       "Alphabet()"
      ]
     },
     "execution_count": 15,
     "metadata": {},
     "output_type": "execute_result"
    }
   ],
   "source": [
    "my_seq.alphabet"
   ]
  },
  {
   "cell_type": "markdown",
   "metadata": {},
   "source": [
    "<br><br>Our example sequence is actually a DNA sequence. If it is important, we can tell the computer which alphabet to use. First, we need to import the alphabet for DNA. For more about IUPAC, check out [this link.](https://iupac.org/who-we-are/)"
   ]
  },
  {
   "cell_type": "code",
   "execution_count": 16,
   "metadata": {},
   "outputs": [],
   "source": [
    "from Bio.Alphabet import IUPAC"
   ]
  },
  {
   "cell_type": "code",
   "execution_count": 17,
   "metadata": {},
   "outputs": [],
   "source": [
    "my_seq.alphabet = IUPAC.unambiguous_dna"
   ]
  },
  {
   "cell_type": "code",
   "execution_count": 18,
   "metadata": {},
   "outputs": [
    {
     "data": {
      "text/plain": [
       "Seq('AGTACACTGGT', IUPACUnambiguousDNA())"
      ]
     },
     "execution_count": 18,
     "metadata": {},
     "output_type": "execute_result"
    }
   ],
   "source": [
    "my_seq"
   ]
  },
  {
   "cell_type": "code",
   "execution_count": 19,
   "metadata": {},
   "outputs": [
    {
     "data": {
      "text/plain": [
       "IUPACUnambiguousDNA()"
      ]
     },
     "execution_count": 19,
     "metadata": {},
     "output_type": "execute_result"
    }
   ],
   "source": [
    "my_seq.alphabet"
   ]
  },
  {
   "cell_type": "markdown",
   "metadata": {},
   "source": [
    "You may notice that the alphabet attribute of the Seq object does not require parantheses. Alphabet is a characteristic of the object, it tells us something about what the object is, instead of a function, which does something to the object."
   ]
  },
  {
   "cell_type": "markdown",
   "metadata": {},
   "source": [
    "<br>Let's view the different attributes of my_seq:"
   ]
  },
  {
   "cell_type": "code",
   "execution_count": 20,
   "metadata": {},
   "outputs": [
    {
     "data": {
      "text/plain": [
       "['__add__',\n",
       " '__class__',\n",
       " '__contains__',\n",
       " '__delattr__',\n",
       " '__dict__',\n",
       " '__dir__',\n",
       " '__doc__',\n",
       " '__eq__',\n",
       " '__format__',\n",
       " '__ge__',\n",
       " '__getattribute__',\n",
       " '__getitem__',\n",
       " '__gt__',\n",
       " '__hash__',\n",
       " '__imul__',\n",
       " '__init__',\n",
       " '__init_subclass__',\n",
       " '__le__',\n",
       " '__len__',\n",
       " '__lt__',\n",
       " '__module__',\n",
       " '__mul__',\n",
       " '__ne__',\n",
       " '__new__',\n",
       " '__radd__',\n",
       " '__reduce__',\n",
       " '__reduce_ex__',\n",
       " '__repr__',\n",
       " '__rmul__',\n",
       " '__setattr__',\n",
       " '__sizeof__',\n",
       " '__str__',\n",
       " '__subclasshook__',\n",
       " '__weakref__',\n",
       " '_data',\n",
       " '_get_seq_str_and_check_alphabet',\n",
       " 'alphabet',\n",
       " 'back_transcribe',\n",
       " 'complement',\n",
       " 'count',\n",
       " 'count_overlap',\n",
       " 'endswith',\n",
       " 'find',\n",
       " 'join',\n",
       " 'lower',\n",
       " 'lstrip',\n",
       " 'reverse_complement',\n",
       " 'rfind',\n",
       " 'rsplit',\n",
       " 'rstrip',\n",
       " 'split',\n",
       " 'startswith',\n",
       " 'strip',\n",
       " 'tomutable',\n",
       " 'transcribe',\n",
       " 'translate',\n",
       " 'ungap',\n",
       " 'upper']"
      ]
     },
     "execution_count": 20,
     "metadata": {},
     "output_type": "execute_result"
    }
   ],
   "source": [
    "dir(my_seq)"
   ]
  },
  {
   "cell_type": "markdown",
   "metadata": {},
   "source": [
    "### <br>Exercise 1."
   ]
  },
  {
   "cell_type": "markdown",
   "metadata": {},
   "source": [
    "#### Using the my_seq object we created, try out a few of the attributes and methods listed above. Try to identify 1 that does not use (), 1 that uses () with no parameters given, and 1 that uses () with a given parameter."
   ]
  },
  {
   "cell_type": "code",
   "execution_count": null,
   "metadata": {},
   "outputs": [],
   "source": [
    "#Example of an attribute that uses () with a given parameter:\n",
    "#my_seq.__contains__(\"A\")"
   ]
  },
  {
   "cell_type": "code",
   "execution_count": 90,
   "metadata": {},
   "outputs": [
    {
     "data": {
      "text/plain": [
       "Bio.Seq.Seq"
      ]
     },
     "execution_count": 90,
     "metadata": {},
     "output_type": "execute_result"
    }
   ],
   "source": [
    "my_seq.__class__"
   ]
  },
  {
   "cell_type": "code",
   "execution_count": 85,
   "metadata": {},
   "outputs": [
    {
     "data": {
      "text/plain": [
       "Seq('agtacactggt', DNAAlphabet())"
      ]
     },
     "execution_count": 85,
     "metadata": {},
     "output_type": "execute_result"
    }
   ],
   "source": [
    "my_seq.lower()"
   ]
  },
  {
   "cell_type": "code",
   "execution_count": 86,
   "metadata": {},
   "outputs": [
    {
     "data": {
      "text/plain": [
       "True"
      ]
     },
     "execution_count": 86,
     "metadata": {},
     "output_type": "execute_result"
    }
   ],
   "source": [
    "my_seq.endswith(\"GT\")"
   ]
  },
  {
   "cell_type": "markdown",
   "metadata": {},
   "source": [
    "### <br>Exercise 2."
   ]
  },
  {
   "cell_type": "markdown",
   "metadata": {},
   "source": [
    "#### Create a new object called my_protein with a sequence of MALWMRLLPL. Tell the computer to use the IUPAC alphabet called \"protein\"."
   ]
  },
  {
   "cell_type": "code",
   "execution_count": 91,
   "metadata": {},
   "outputs": [],
   "source": [
    "my_protein = Seq(\"MALWMRLLPL\")\n",
    "my_protein.alphabet = IUPAC.protein\n",
    "#Or:\n",
    "#my_protein = Seq(\"MALWMRLLPL\", alphabet=IUPAC.protein)"
   ]
  },
  {
   "cell_type": "markdown",
   "metadata": {},
   "source": [
    "#### <br>The computer knows this is a protein. Will that change which attributes can be applied to this sequence compared to my_seq? Try out a function that you think probably won't work with a protein sequence and see what happens."
   ]
  },
  {
   "cell_type": "code",
   "execution_count": 92,
   "metadata": {},
   "outputs": [
    {
     "ename": "ValueError",
     "evalue": "Proteins cannot be transcribed!",
     "output_type": "error",
     "traceback": [
      "\u001b[0;31m---------------------------------------------------------------------------\u001b[0m",
      "\u001b[0;31mValueError\u001b[0m                                Traceback (most recent call last)",
      "\u001b[0;32m<ipython-input-92-7773efe273c3>\u001b[0m in \u001b[0;36m<module>\u001b[0;34m\u001b[0m\n\u001b[0;32m----> 1\u001b[0;31m \u001b[0mmy_protein\u001b[0m\u001b[0;34m.\u001b[0m\u001b[0mtranscribe\u001b[0m\u001b[0;34m(\u001b[0m\u001b[0;34m)\u001b[0m\u001b[0;34m\u001b[0m\u001b[0;34m\u001b[0m\u001b[0m\n\u001b[0m",
      "\u001b[0;32m~/anaconda3/lib/python3.7/site-packages/Bio/Seq.py\u001b[0m in \u001b[0;36mtranscribe\u001b[0;34m(self)\u001b[0m\n\u001b[1;32m   1001\u001b[0m         \u001b[0mbase\u001b[0m \u001b[0;34m=\u001b[0m \u001b[0mAlphabet\u001b[0m\u001b[0;34m.\u001b[0m\u001b[0m_get_base_alphabet\u001b[0m\u001b[0;34m(\u001b[0m\u001b[0mself\u001b[0m\u001b[0;34m.\u001b[0m\u001b[0malphabet\u001b[0m\u001b[0;34m)\u001b[0m\u001b[0;34m\u001b[0m\u001b[0;34m\u001b[0m\u001b[0m\n\u001b[1;32m   1002\u001b[0m         \u001b[0;32mif\u001b[0m \u001b[0misinstance\u001b[0m\u001b[0;34m(\u001b[0m\u001b[0mbase\u001b[0m\u001b[0;34m,\u001b[0m \u001b[0mAlphabet\u001b[0m\u001b[0;34m.\u001b[0m\u001b[0mProteinAlphabet\u001b[0m\u001b[0;34m)\u001b[0m\u001b[0;34m:\u001b[0m\u001b[0;34m\u001b[0m\u001b[0;34m\u001b[0m\u001b[0m\n\u001b[0;32m-> 1003\u001b[0;31m             \u001b[0;32mraise\u001b[0m \u001b[0mValueError\u001b[0m\u001b[0;34m(\u001b[0m\u001b[0;34m\"Proteins cannot be transcribed!\"\u001b[0m\u001b[0;34m)\u001b[0m\u001b[0;34m\u001b[0m\u001b[0;34m\u001b[0m\u001b[0m\n\u001b[0m\u001b[1;32m   1004\u001b[0m         \u001b[0;32mif\u001b[0m \u001b[0misinstance\u001b[0m\u001b[0;34m(\u001b[0m\u001b[0mbase\u001b[0m\u001b[0;34m,\u001b[0m \u001b[0mAlphabet\u001b[0m\u001b[0;34m.\u001b[0m\u001b[0mRNAAlphabet\u001b[0m\u001b[0;34m)\u001b[0m\u001b[0;34m:\u001b[0m\u001b[0;34m\u001b[0m\u001b[0;34m\u001b[0m\u001b[0m\n\u001b[1;32m   1005\u001b[0m             \u001b[0;32mraise\u001b[0m \u001b[0mValueError\u001b[0m\u001b[0;34m(\u001b[0m\u001b[0;34m\"RNA cannot be transcribed!\"\u001b[0m\u001b[0;34m)\u001b[0m\u001b[0;34m\u001b[0m\u001b[0;34m\u001b[0m\u001b[0m\n",
      "\u001b[0;31mValueError\u001b[0m: Proteins cannot be transcribed!"
     ]
    }
   ],
   "source": [
    "my_protein.transcribe()"
   ]
  },
  {
   "cell_type": "markdown",
   "metadata": {},
   "source": [
    "___"
   ]
  },
  {
   "cell_type": "markdown",
   "metadata": {},
   "source": [
    "## <br><br>Part Two: Reading sequence files"
   ]
  },
  {
   "cell_type": "markdown",
   "metadata": {},
   "source": [
    "So far we've worked with a sequence that we entered by hand. More often, however, we'll be working with sequences from files.\n",
    "\n",
    "\n",
    "<br>We can use **_SeqIO_** (that's the letters I and O) from the Bio module to load many different types of sequence files."
   ]
  },
  {
   "cell_type": "markdown",
   "metadata": {},
   "source": [
    "[Click here to view a list of file types that work with Biopython](https://biopython.org/wiki/SeqIO)"
   ]
  },
  {
   "cell_type": "code",
   "execution_count": 21,
   "metadata": {},
   "outputs": [],
   "source": [
    "from Bio import SeqIO"
   ]
  },
  {
   "cell_type": "markdown",
   "metadata": {},
   "source": [
    "<br>**_SeqIO.parse()_** is the function for reading a file that contains multiple sequences. It takes two parameters: the path to the file, and the type of file in lowercase text. <br>\n"
   ]
  },
  {
   "cell_type": "markdown",
   "metadata": {},
   "source": [
    "<br>Let's read in a genbank sequence of the human insulin gene. Our file only contains one sequence. When your file only contains one sequence, you can actually use a different function: **_SeqIO.read()_**. This is because single sequences that are read with SeqIO.parse() do not loop in the same way as files with multiple sequences."
   ]
  },
  {
   "cell_type": "code",
   "execution_count": 22,
   "metadata": {},
   "outputs": [],
   "source": [
    "insulin_gene = SeqIO.read(\"sequence.gb\", \"genbank\")"
   ]
  },
  {
   "cell_type": "code",
   "execution_count": 23,
   "metadata": {},
   "outputs": [
    {
     "name": "stdout",
     "output_type": "stream",
     "text": [
      "ID: NC_000011.10\n",
      "Name: NC_000011\n",
      "Description: Homo sapiens chromosome 11, GRCh38.p13 Primary Assembly\n",
      "Database cross-references: BioProject:PRJNA168, Assembly:GCF_000001405.39\n",
      "Number of features: 14\n",
      "/molecule_type=DNA\n",
      "/topology=linear\n",
      "/data_file_division=CON\n",
      "/date=09-SEP-2019\n",
      "/accessions=['NC_000011', 'REGION:', 'complement(2159779..2161209)']\n",
      "/sequence_version=10\n",
      "/keywords=['RefSeq']\n",
      "/source=Homo sapiens (human)\n",
      "/organism=Homo sapiens\n",
      "/taxonomy=['Eukaryota', 'Metazoa', 'Chordata', 'Craniata', 'Vertebrata', 'Euteleostomi', 'Mammalia', 'Eutheria', 'Euarchontoglires', 'Primates', 'Haplorrhini', 'Catarrhini', 'Hominidae', 'Homo']\n",
      "/references=[Reference(title='Human chromosome 11 DNA sequence and analysis including novel gene identification', ...), Reference(title='Finishing the euchromatic sequence of the human genome', ...), Reference(title='Initial sequencing and analysis of the human genome', ...)]\n",
      "/comment=REFSEQ INFORMATION: The reference sequence is identical to\n",
      "CM000673.2.\n",
      "On Feb 3, 2014 this sequence version replaced NC_000011.9.\n",
      "Assembly Name: GRCh38.p13 Primary Assembly\n",
      "The DNA sequence is composed of genomic sequence, primarily\n",
      "finished clones that were sequenced as part of the Human Genome\n",
      "Project. PCR products and WGS shotgun sequence have been added\n",
      "where necessary to fill gaps or correct errors. All such additions\n",
      "are manually curated by GRC staff. For more information see:\n",
      "https://genomereference.org.\n",
      "                               Release 109.20190905\n",
      "                               pipeline\n",
      "                               RefSeq model\n",
      "/structured_comment=OrderedDict([('Genome-Annotation-Data', OrderedDict([('Annotation Provider', 'NCBI'), ('Annotation Status', 'Updated annotation'), ('Annotation Name', 'Homo sapiens Updated Annotation'), ('Annotation Version', '109.20190905'), ('Annotation Pipeline', 'NCBI eukaryotic genome annotation'), ('Annotation Software Version', '8.2'), ('Annotation Method', 'Best-placed RefSeq; propagated'), ('Features Annotated', 'Gene; mRNA; CDS; ncRNA')]))])\n",
      "Seq('AGCCCTCCAGGACAGGCTGCATCAGAAGAGGCCATCAAGCAGGTCTGTTCCAAG...AGC', IUPACAmbiguousDNA())\n"
     ]
    }
   ],
   "source": [
    "print(insulin_gene)"
   ]
  },
  {
   "cell_type": "markdown",
   "metadata": {},
   "source": [
    "<br>Let's also read a fasta file with multiple sequences, using the **_SeqIO.parse()_** function:"
   ]
  },
  {
   "cell_type": "code",
   "execution_count": 24,
   "metadata": {},
   "outputs": [],
   "source": [
    "multiple_seqs = SeqIO.parse(\"sequence.fasta\", \"fasta\")"
   ]
  },
  {
   "cell_type": "code",
   "execution_count": 25,
   "metadata": {},
   "outputs": [
    {
     "data": {
      "text/plain": [
       "<generator object parse at 0x10f12e750>"
      ]
     },
     "execution_count": 25,
     "metadata": {},
     "output_type": "execute_result"
    }
   ],
   "source": [
    "multiple_seqs"
   ]
  },
  {
   "cell_type": "markdown",
   "metadata": {},
   "source": [
    "<br>When you use SeqIO.parse(), the computer creates a **_generator_** object. This means the sequences are not stored in memory, which is great if you want to filter or loop through a very large file that contains many sequences or very long sequences.\n",
    "<br><br>To access the data, we can loop through the generator object and read each sequence that is contained inside."
   ]
  },
  {
   "cell_type": "code",
   "execution_count": 26,
   "metadata": {},
   "outputs": [
    {
     "name": "stdout",
     "output_type": "stream",
     "text": [
      "M10039.1\n",
      "AH012037.2\n",
      "AJ009655.1\n",
      "V00565.1\n",
      "NG_052838.1\n",
      "NG_007114.1\n",
      "X03426.1\n",
      "X03425.1\n",
      "NG_041945.1\n",
      "NG_016165.1\n",
      "NG_042039.1\n",
      "X03424.1\n",
      "X03423.1\n",
      "X07868.1\n",
      "X07867.1\n",
      "LC010814.1\n",
      "LC010813.1\n",
      "LC010812.1\n",
      "LC010811.1\n",
      "LC010810.1\n",
      "LC010809.1\n",
      "LC010808.1\n",
      "LC010807.1\n",
      "LC010806.1\n",
      "LC010805.1\n",
      "LC010804.1\n",
      "LC010803.1\n",
      "LC010802.1\n",
      "LC010801.1\n",
      "LC010800.1\n",
      "LC010799.1\n",
      "LC010798.1\n",
      "LC010797.1\n",
      "LC010796.1\n",
      "LC010795.1\n",
      "LC010794.1\n",
      "LC010793.1\n",
      "LC010792.1\n",
      "LC010791.1\n",
      "LC010790.1\n",
      "LC010789.1\n",
      "LC010788.1\n",
      "LC010787.1\n",
      "LC010786.1\n",
      "X03427.1\n",
      "LC010957.1\n",
      "LC010956.1\n",
      "LC010955.1\n",
      "LC010954.1\n",
      "EU326141.1\n",
      "X56540.1\n",
      "X56539.1\n"
     ]
    }
   ],
   "source": [
    "for i in multiple_seqs:\n",
    "    print(i.id)"
   ]
  },
  {
   "cell_type": "markdown",
   "metadata": {},
   "source": [
    "<br> We can load our file into memory by loading it as a **_dictionary_**. This might make the data easier to parse, especially if you are familiar with dictionaries. To do this, we use the **_SeqIO.parse()_** function (even though we are using only one sequence here) inside the **_SeqIO.to_dict()_** function:"
   ]
  },
  {
   "cell_type": "code",
   "execution_count": 27,
   "metadata": {},
   "outputs": [],
   "source": [
    "insulin_dict = SeqIO.to_dict(SeqIO.parse(\"sequence.gb\", \"genbank\"))"
   ]
  },
  {
   "cell_type": "code",
   "execution_count": 28,
   "metadata": {},
   "outputs": [
    {
     "data": {
      "text/plain": [
       "{'NC_000011.10': SeqRecord(seq=Seq('AGCCCTCCAGGACAGGCTGCATCAGAAGAGGCCATCAAGCAGGTCTGTTCCAAG...AGC', IUPACAmbiguousDNA()), id='NC_000011.10', name='NC_000011', description='Homo sapiens chromosome 11, GRCh38.p13 Primary Assembly', dbxrefs=['BioProject:PRJNA168', 'Assembly:GCF_000001405.39'])}"
      ]
     },
     "execution_count": 28,
     "metadata": {},
     "output_type": "execute_result"
    }
   ],
   "source": [
    "insulin_dict"
   ]
  },
  {
   "cell_type": "markdown",
   "metadata": {},
   "source": [
    "<br>Note: The sequence id is used as the key in the dictionary."
   ]
  },
  {
   "cell_type": "markdown",
   "metadata": {},
   "source": [
    "<br>We can also load our file into memory as a **_list_**. Lists are easy to work with, but they do not allow you to easily reference specific sequence records by a **_key_**. To load as a list, you do not need to use a second SeqIO function; you use the built-in python **_list()_** function around the **_SeqIO.parse()_** function (again, even though we are working with one sequence)."
   ]
  },
  {
   "cell_type": "code",
   "execution_count": 29,
   "metadata": {},
   "outputs": [],
   "source": [
    "insulin_list = list(SeqIO.parse(\"sequence.gb\", \"genbank\"))"
   ]
  },
  {
   "cell_type": "code",
   "execution_count": 30,
   "metadata": {},
   "outputs": [
    {
     "data": {
      "text/plain": [
       "[SeqRecord(seq=Seq('AGCCCTCCAGGACAGGCTGCATCAGAAGAGGCCATCAAGCAGGTCTGTTCCAAG...AGC', IUPACAmbiguousDNA()), id='NC_000011.10', name='NC_000011', description='Homo sapiens chromosome 11, GRCh38.p13 Primary Assembly', dbxrefs=['BioProject:PRJNA168', 'Assembly:GCF_000001405.39'])]"
      ]
     },
     "execution_count": 30,
     "metadata": {},
     "output_type": "execute_result"
    }
   ],
   "source": [
    "insulin_list"
   ]
  },
  {
   "cell_type": "markdown",
   "metadata": {},
   "source": [
    "<br>To summarize, when working with single sequences, you use SeqIO.read() when reading the file as a generator object, and SeqIO.parse() when loading the file to memory as a list or dictionary."
   ]
  },
  {
   "cell_type": "markdown",
   "metadata": {},
   "source": [
    "### <br>Exercise 3."
   ]
  },
  {
   "cell_type": "markdown",
   "metadata": {},
   "source": [
    "#### Load in the fasta file, sequence.fasta, as a dictionary called fasta_dict. You will use \"fasta\" as the file type.\n",
    "#### <br>This fasta file was downloaded from NCBI. It contains human insulin sequences on chromosome 11 of length between 100 and 10,000 bp."
   ]
  },
  {
   "cell_type": "code",
   "execution_count": 93,
   "metadata": {},
   "outputs": [],
   "source": [
    "fasta_dict = SeqIO.to_dict(SeqIO.parse(\"sequence.fasta\", \"fasta\"))"
   ]
  },
  {
   "cell_type": "markdown",
   "metadata": {},
   "source": [
    "#### <br>How many sequences are in fasta_dict?"
   ]
  },
  {
   "cell_type": "code",
   "execution_count": 94,
   "metadata": {},
   "outputs": [
    {
     "data": {
      "text/plain": [
       "52"
      ]
     },
     "execution_count": 94,
     "metadata": {},
     "output_type": "execute_result"
    }
   ],
   "source": [
    "len(fasta_dict)"
   ]
  },
  {
   "cell_type": "markdown",
   "metadata": {},
   "source": [
    "#### Print the sequence with id \"NG_052838.1\"."
   ]
  },
  {
   "cell_type": "code",
   "execution_count": 96,
   "metadata": {},
   "outputs": [
    {
     "name": "stdout",
     "output_type": "stream",
     "text": [
      "ID: NG_052838.1\n",
      "Name: NG_052838.1\n",
      "Description: NG_052838.1 Homo sapiens insulin repeat instability region (LOC109623489) on chromosome 11\n",
      "Number of features: 0\n",
      "Seq('GGGCAAATGTCTCCAGGAGAGCAAAGCCCTCACCTGGGCCACTTTCCACATTAG...CCT', SingleLetterAlphabet())\n"
     ]
    }
   ],
   "source": [
    "print(fasta_dict[\"NG_052838.1\"])"
   ]
  },
  {
   "cell_type": "markdown",
   "metadata": {},
   "source": [
    "___"
   ]
  },
  {
   "cell_type": "markdown",
   "metadata": {},
   "source": [
    "## <br><br>Part Three: The SeqRecord object"
   ]
  },
  {
   "cell_type": "markdown",
   "metadata": {},
   "source": [
    "<br> There are several different sequence file types (too many!). Most contain more information than just the sequence. \n",
    "\n",
    "\n",
    "<br>A **_SeqRecord_** is another object that has its own attributes and functions. The **_Seq_** object that we learned above is one attribute of the SeqRecord. The Seq object retains all of its own attributes and functions, so you can think of it as a sub-object inside the SeqRecord object. \n",
    "\n",
    "\n",
    "<br>When we loaded our insulin sequence above, both as a generator object and as a dictionary, SeqIO labelled each record as a SeqRecord object. Let's look at one SeqRecord:"
   ]
  },
  {
   "cell_type": "code",
   "execution_count": 31,
   "metadata": {},
   "outputs": [],
   "source": [
    "insulin = insulin_dict['NC_000011.10']"
   ]
  },
  {
   "cell_type": "code",
   "execution_count": 32,
   "metadata": {},
   "outputs": [
    {
     "data": {
      "text/plain": [
       "SeqRecord(seq=Seq('AGCCCTCCAGGACAGGCTGCATCAGAAGAGGCCATCAAGCAGGTCTGTTCCAAG...AGC', IUPACAmbiguousDNA()), id='NC_000011.10', name='NC_000011', description='Homo sapiens chromosome 11, GRCh38.p13 Primary Assembly', dbxrefs=['BioProject:PRJNA168', 'Assembly:GCF_000001405.39'])"
      ]
     },
     "execution_count": 32,
     "metadata": {},
     "output_type": "execute_result"
    }
   ],
   "source": [
    "insulin"
   ]
  },
  {
   "cell_type": "markdown",
   "metadata": {},
   "source": [
    "Let's see what attributes this object has:"
   ]
  },
  {
   "cell_type": "code",
   "execution_count": 33,
   "metadata": {},
   "outputs": [
    {
     "data": {
      "text/plain": [
       "['__add__',\n",
       " '__bool__',\n",
       " '__class__',\n",
       " '__contains__',\n",
       " '__delattr__',\n",
       " '__dict__',\n",
       " '__dir__',\n",
       " '__doc__',\n",
       " '__eq__',\n",
       " '__format__',\n",
       " '__ge__',\n",
       " '__getattribute__',\n",
       " '__getitem__',\n",
       " '__gt__',\n",
       " '__hash__',\n",
       " '__init__',\n",
       " '__init_subclass__',\n",
       " '__iter__',\n",
       " '__le__',\n",
       " '__le___',\n",
       " '__len__',\n",
       " '__lt__',\n",
       " '__module__',\n",
       " '__ne__',\n",
       " '__new__',\n",
       " '__nonzero__',\n",
       " '__radd__',\n",
       " '__reduce__',\n",
       " '__reduce_ex__',\n",
       " '__repr__',\n",
       " '__setattr__',\n",
       " '__sizeof__',\n",
       " '__str__',\n",
       " '__subclasshook__',\n",
       " '__weakref__',\n",
       " '_per_letter_annotations',\n",
       " '_seq',\n",
       " '_set_per_letter_annotations',\n",
       " '_set_seq',\n",
       " 'annotations',\n",
       " 'dbxrefs',\n",
       " 'description',\n",
       " 'features',\n",
       " 'format',\n",
       " 'id',\n",
       " 'letter_annotations',\n",
       " 'lower',\n",
       " 'name',\n",
       " 'reverse_complement',\n",
       " 'seq',\n",
       " 'translate',\n",
       " 'upper']"
      ]
     },
     "execution_count": 33,
     "metadata": {},
     "output_type": "execute_result"
    }
   ],
   "source": [
    "dir(insulin)"
   ]
  },
  {
   "cell_type": "markdown",
   "metadata": {},
   "source": [
    "<br>We can print attributes from our record:"
   ]
  },
  {
   "cell_type": "code",
   "execution_count": 34,
   "metadata": {},
   "outputs": [
    {
     "data": {
      "text/plain": [
       "'Homo sapiens chromosome 11, GRCh38.p13 Primary Assembly'"
      ]
     },
     "execution_count": 34,
     "metadata": {},
     "output_type": "execute_result"
    }
   ],
   "source": [
    "insulin.description"
   ]
  },
  {
   "cell_type": "code",
   "execution_count": 35,
   "metadata": {},
   "outputs": [
    {
     "data": {
      "text/plain": [
       "Seq('AGCCCTCCAGGACAGGCTGCATCAGAAGAGGCCATCAAGCAGGTCTGTTCCAAG...AGC', IUPACAmbiguousDNA())"
      ]
     },
     "execution_count": 35,
     "metadata": {},
     "output_type": "execute_result"
    }
   ],
   "source": [
    "insulin.seq"
   ]
  },
  {
   "cell_type": "code",
   "execution_count": 36,
   "metadata": {},
   "outputs": [
    {
     "data": {
      "text/plain": [
       "IUPACAmbiguousDNA()"
      ]
     },
     "execution_count": 36,
     "metadata": {},
     "output_type": "execute_result"
    }
   ],
   "source": [
    "insulin.seq.alphabet"
   ]
  },
  {
   "cell_type": "markdown",
   "metadata": {},
   "source": [
    "___"
   ]
  },
  {
   "cell_type": "markdown",
   "metadata": {},
   "source": [
    "### <br>Part Four: Parsing records"
   ]
  },
  {
   "cell_type": "markdown",
   "metadata": {},
   "source": [
    "Biopython allows us to filter and transform our sequences in bulk.\n",
    "<br><br>We have learned three ways to read a sequence file: as a generator object that is not loaded into memory, as a list, and as a dictionary with sequence ids as the keys. It is up to you to decide which way to read your sequences depending on the question and size of your file."
   ]
  },
  {
   "cell_type": "markdown",
   "metadata": {},
   "source": [
    "___"
   ]
  },
  {
   "cell_type": "markdown",
   "metadata": {},
   "source": [
    "#### Python review:\n",
    "\n",
    "If you are using a dictionary, you'll need to remember the rules for looping through python dictionaries. You use different attributes for looping through the dictionary keys, the dictionary values, or both. \n",
    "\n",
    "<br>The next exercise uses **_dict.keys()_**, **_dict.values()_**, and **_dict.items()_** to loop through a dictionary."
   ]
  },
  {
   "cell_type": "markdown",
   "metadata": {},
   "source": [
    "### <br>Exercise 4"
   ]
  },
  {
   "cell_type": "code",
   "execution_count": 97,
   "metadata": {},
   "outputs": [],
   "source": [
    "sample_dict = {\"bird\": \"goose\", \"mammal\": \"squirrel\", \"fish\": \"trout\"}"
   ]
  },
  {
   "cell_type": "markdown",
   "metadata": {},
   "source": [
    "#### For the next three code cells, before you run the cell, write down on a piece of paper what you expect to see as output. Then run the cell and see if you were right."
   ]
  },
  {
   "cell_type": "code",
   "execution_count": 98,
   "metadata": {},
   "outputs": [
    {
     "name": "stdout",
     "output_type": "stream",
     "text": [
      "Key:\n",
      "bird\n",
      "Value:\n",
      "goose\n",
      "Key:\n",
      "mammal\n",
      "Value:\n",
      "squirrel\n",
      "Key:\n",
      "fish\n",
      "Value:\n",
      "trout\n"
     ]
    }
   ],
   "source": [
    "for k in sample_dict.keys():\n",
    "    print(\"Key:\")\n",
    "    print(k)\n",
    "    print(\"Value:\")\n",
    "    print(sample_dict[k])"
   ]
  },
  {
   "cell_type": "code",
   "execution_count": 99,
   "metadata": {},
   "outputs": [
    {
     "name": "stdout",
     "output_type": "stream",
     "text": [
      "goose\n",
      "squirrel\n",
      "trout\n"
     ]
    }
   ],
   "source": [
    "for value in sample_dict.values():\n",
    "    print(value)"
   ]
  },
  {
   "cell_type": "code",
   "execution_count": 100,
   "metadata": {},
   "outputs": [
    {
     "name": "stdout",
     "output_type": "stream",
     "text": [
      "goose is a bird\n",
      "squirrel is a mammal\n",
      "trout is a fish\n"
     ]
    }
   ],
   "source": [
    "for animal_type, animal_name in sample_dict.items():\n",
    "    print(animal_name + \" is a \" + animal_type)"
   ]
  },
  {
   "cell_type": "markdown",
   "metadata": {},
   "source": [
    "<br><br>Another important thing to remember about certain Python objects is that if you make a copy of the object by assigning one variable to the original, any changes you make to one object will also be made to the other:"
   ]
  },
  {
   "cell_type": "code",
   "execution_count": 101,
   "metadata": {},
   "outputs": [
    {
     "name": "stdout",
     "output_type": "stream",
     "text": [
      "[3, 4, 5, 9]\n",
      "[3, 4, 5, 9]\n"
     ]
    }
   ],
   "source": [
    "list1 = [3, 4, 5]\n",
    "list2 = list1\n",
    "list2.append(9)\n",
    "print(list1)\n",
    "print(list2)"
   ]
  },
  {
   "cell_type": "markdown",
   "metadata": {},
   "source": [
    "We can get around this by assigning both variables to the same original object rather than referencing one variable when assigning the other:"
   ]
  },
  {
   "cell_type": "code",
   "execution_count": 102,
   "metadata": {},
   "outputs": [
    {
     "name": "stdout",
     "output_type": "stream",
     "text": [
      "[3, 4, 5]\n",
      "[3, 4, 5, 9]\n"
     ]
    }
   ],
   "source": [
    "list1 = [3, 4, 5]\n",
    "list2 = [3, 4, 5]\n",
    "list2.append(9)\n",
    "print(list1)\n",
    "print(list2)"
   ]
  },
  {
   "cell_type": "markdown",
   "metadata": {},
   "source": [
    "___"
   ]
  },
  {
   "cell_type": "markdown",
   "metadata": {},
   "source": [
    "#### <br>  Let's write a loop to make a new dictionary that returns the reverse complements of all the sequences in the fasta_dict."
   ]
  },
  {
   "cell_type": "markdown",
   "metadata": {},
   "source": [
    "In case you changed it in the previous exercise, we will reload the fasta_dict first:"
   ]
  },
  {
   "cell_type": "code",
   "execution_count": 39,
   "metadata": {},
   "outputs": [],
   "source": [
    "fasta_dict = SeqIO.to_dict(SeqIO.parse(\"sequence.fasta\", \"fasta\"))"
   ]
  },
  {
   "cell_type": "markdown",
   "metadata": {},
   "source": [
    "<br>We will also load in the same dictionary with a new name, since we can't copy the fasta_dict without changing the original:"
   ]
  },
  {
   "cell_type": "code",
   "execution_count": 40,
   "metadata": {},
   "outputs": [],
   "source": [
    "reverse_dict = SeqIO.to_dict(SeqIO.parse(\"sequence.fasta\", \"fasta\"))"
   ]
  },
  {
   "cell_type": "markdown",
   "metadata": {},
   "source": [
    "Finally, we change the **_Seq_** object for each record in the reverse_dict:"
   ]
  },
  {
   "cell_type": "code",
   "execution_count": 41,
   "metadata": {},
   "outputs": [],
   "source": [
    "for record in reverse_dict.values():\n",
    "    record.seq = record.seq.reverse_complement()"
   ]
  },
  {
   "cell_type": "markdown",
   "metadata": {},
   "source": [
    "<br> We can test the output by looking at the same sequence in the original dictionary and in the reversed dictionary:"
   ]
  },
  {
   "cell_type": "code",
   "execution_count": 42,
   "metadata": {},
   "outputs": [
    {
     "data": {
      "text/plain": [
       "SeqRecord(seq=Seq('GGGCAAATGTCTCCAGGAGAGCAAAGCCCTCACCTGGGCCACTTTCCACATTAG...CCT', SingleLetterAlphabet()), id='NG_052838.1', name='NG_052838.1', description='NG_052838.1 Homo sapiens insulin repeat instability region (LOC109623489) on chromosome 11', dbxrefs=[])"
      ]
     },
     "execution_count": 42,
     "metadata": {},
     "output_type": "execute_result"
    }
   ],
   "source": [
    "fasta_dict[\"NG_052838.1\"]"
   ]
  },
  {
   "cell_type": "markdown",
   "metadata": {},
   "source": [
    "#### Before you run the next cell, what do you think the first and last three nucleotides will be in the reverse_dict for this sequence?"
   ]
  },
  {
   "cell_type": "code",
   "execution_count": 43,
   "metadata": {},
   "outputs": [
    {
     "data": {
      "text/plain": [
       "SeqRecord(seq=Seq('AGGCAGCCAGCAGGGAGGGGACCCCTCCCTCACTCCCACTCTCCCACCCCCACC...CCC', SingleLetterAlphabet()), id='NG_052838.1', name='NG_052838.1', description='NG_052838.1 Homo sapiens insulin repeat instability region (LOC109623489) on chromosome 11', dbxrefs=[])"
      ]
     },
     "execution_count": 43,
     "metadata": {},
     "output_type": "execute_result"
    }
   ],
   "source": [
    "reverse_dict[\"NG_052838.1\"]"
   ]
  },
  {
   "cell_type": "markdown",
   "metadata": {},
   "source": [
    "### <br>Exercise 5"
   ]
  },
  {
   "cell_type": "markdown",
   "metadata": {},
   "source": [
    "#### Our fasta_dict contains some minisatellite sequences, which we do not want to include. (Minisatellites are parts of the genome with a high number of repeated DNA segments and are useful for studying population level genetic diversity.) Minisatellites are short, but we cannot filter by length because there are some short exon sequences that we do want to keep. <br>\n",
    "#### <br> Create a new dictionary called reduced_dict. Use a loop to only include sequences that do not contain the word \"minisatellite\" in the SeqRecord description."
   ]
  },
  {
   "cell_type": "code",
   "execution_count": 103,
   "metadata": {},
   "outputs": [],
   "source": [
    "reduced_dict = {}"
   ]
  },
  {
   "cell_type": "code",
   "execution_count": 104,
   "metadata": {},
   "outputs": [],
   "source": [
    "for id, record in fasta_dict.items():\n",
    "    if \"minisatellite\" not in record.description:\n",
    "        reduced_dict[id] = record"
   ]
  },
  {
   "cell_type": "markdown",
   "metadata": {},
   "source": [
    "#### How many sequences are in the reduced_dict?"
   ]
  },
  {
   "cell_type": "code",
   "execution_count": 105,
   "metadata": {},
   "outputs": [
    {
     "data": {
      "text/plain": [
       "19"
      ]
     },
     "execution_count": 105,
     "metadata": {},
     "output_type": "execute_result"
    }
   ],
   "source": [
    "len(reduced_dict)"
   ]
  },
  {
   "cell_type": "markdown",
   "metadata": {},
   "source": [
    "#### Print the length of each sequence in the dictionary."
   ]
  },
  {
   "cell_type": "code",
   "execution_count": 106,
   "metadata": {},
   "outputs": [
    {
     "name": "stdout",
     "output_type": "stream",
     "text": [
      "3943\n",
      "7496\n",
      "1393\n",
      "4992\n",
      "598\n",
      "8416\n",
      "186\n",
      "192\n",
      "4965\n",
      "9660\n",
      "5120\n",
      "272\n",
      "250\n",
      "4156\n",
      "632\n",
      "703\n",
      "520\n",
      "190\n",
      "490\n"
     ]
    }
   ],
   "source": [
    "for id in reduced_dict.keys():\n",
    "    print(len(reduced_dict[id]))\n",
    "#OR:    \n",
    "#for v in reduced_dict.values():\n",
    "#    print(len(v.seq))"
   ]
  },
  {
   "cell_type": "markdown",
   "metadata": {},
   "source": [
    "___"
   ]
  },
  {
   "cell_type": "markdown",
   "metadata": {},
   "source": [
    "## <br>Part Five: Writing files"
   ]
  },
  {
   "cell_type": "markdown",
   "metadata": {},
   "source": [
    "Writing files is easy. **_SeqIO.write()_** takes three parameters: the data to write, the name for saving the file, and the file type."
   ]
  },
  {
   "cell_type": "code",
   "execution_count": 49,
   "metadata": {},
   "outputs": [
    {
     "data": {
      "text/plain": [
       "19"
      ]
     },
     "execution_count": 49,
     "metadata": {},
     "output_type": "execute_result"
    }
   ],
   "source": [
    "SeqIO.write(reduced_dict.values(), \"insulinGenes.fasta\", \"fasta\")"
   ]
  },
  {
   "cell_type": "markdown",
   "metadata": {},
   "source": [
    "The **_SeqIO.write()_** function returns the number of sequences that were written."
   ]
  },
  {
   "cell_type": "markdown",
   "metadata": {},
   "source": [
    "<br>You can save the genes in a file type that is different than the original file type, but different types have different requirements. For example, let's try this:"
   ]
  },
  {
   "cell_type": "code",
   "execution_count": 50,
   "metadata": {},
   "outputs": [
    {
     "ename": "ValueError",
     "evalue": "Need a Nucleotide or Protein alphabet",
     "output_type": "error",
     "traceback": [
      "\u001b[0;31m---------------------------------------------------------------------------\u001b[0m",
      "\u001b[0;31mValueError\u001b[0m                                Traceback (most recent call last)",
      "\u001b[0;32m<ipython-input-50-b85f620bfe80>\u001b[0m in \u001b[0;36m<module>\u001b[0;34m\u001b[0m\n\u001b[0;32m----> 1\u001b[0;31m \u001b[0mSeqIO\u001b[0m\u001b[0;34m.\u001b[0m\u001b[0mwrite\u001b[0m\u001b[0;34m(\u001b[0m\u001b[0mreduced_dict\u001b[0m\u001b[0;34m.\u001b[0m\u001b[0mvalues\u001b[0m\u001b[0;34m(\u001b[0m\u001b[0;34m)\u001b[0m\u001b[0;34m,\u001b[0m \u001b[0;34m\"insulinGenes.gb\"\u001b[0m\u001b[0;34m,\u001b[0m \u001b[0;34m\"genbank\"\u001b[0m\u001b[0;34m)\u001b[0m\u001b[0;34m\u001b[0m\u001b[0;34m\u001b[0m\u001b[0m\n\u001b[0m",
      "\u001b[0;32m~/anaconda3/lib/python3.7/site-packages/Bio/SeqIO/__init__.py\u001b[0m in \u001b[0;36mwrite\u001b[0;34m(sequences, handle, format)\u001b[0m\n\u001b[1;32m    537\u001b[0m         \u001b[0;32melif\u001b[0m \u001b[0mformat\u001b[0m \u001b[0;32min\u001b[0m \u001b[0m_FormatToWriter\u001b[0m\u001b[0;34m:\u001b[0m\u001b[0;34m\u001b[0m\u001b[0;34m\u001b[0m\u001b[0m\n\u001b[1;32m    538\u001b[0m             \u001b[0mwriter_class\u001b[0m \u001b[0;34m=\u001b[0m \u001b[0m_FormatToWriter\u001b[0m\u001b[0;34m[\u001b[0m\u001b[0mformat\u001b[0m\u001b[0;34m]\u001b[0m\u001b[0;34m\u001b[0m\u001b[0;34m\u001b[0m\u001b[0m\n\u001b[0;32m--> 539\u001b[0;31m             \u001b[0mcount\u001b[0m \u001b[0;34m=\u001b[0m \u001b[0mwriter_class\u001b[0m\u001b[0;34m(\u001b[0m\u001b[0mfp\u001b[0m\u001b[0;34m)\u001b[0m\u001b[0;34m.\u001b[0m\u001b[0mwrite_file\u001b[0m\u001b[0;34m(\u001b[0m\u001b[0msequences\u001b[0m\u001b[0;34m)\u001b[0m\u001b[0;34m\u001b[0m\u001b[0;34m\u001b[0m\u001b[0m\n\u001b[0m\u001b[1;32m    540\u001b[0m         \u001b[0;32melif\u001b[0m \u001b[0mformat\u001b[0m \u001b[0;32min\u001b[0m \u001b[0mAlignIO\u001b[0m\u001b[0;34m.\u001b[0m\u001b[0m_FormatToWriter\u001b[0m\u001b[0;34m:\u001b[0m\u001b[0;34m\u001b[0m\u001b[0;34m\u001b[0m\u001b[0m\n\u001b[1;32m    541\u001b[0m             \u001b[0;31m# Try and turn all the records into a single alignment,\u001b[0m\u001b[0;34m\u001b[0m\u001b[0;34m\u001b[0m\u001b[0;34m\u001b[0m\u001b[0m\n",
      "\u001b[0;32m~/anaconda3/lib/python3.7/site-packages/Bio/SeqIO/Interfaces.py\u001b[0m in \u001b[0;36mwrite_file\u001b[0;34m(self, records)\u001b[0m\n\u001b[1;32m    251\u001b[0m         \"\"\"\n\u001b[1;32m    252\u001b[0m         \u001b[0mself\u001b[0m\u001b[0;34m.\u001b[0m\u001b[0mwrite_header\u001b[0m\u001b[0;34m(\u001b[0m\u001b[0;34m)\u001b[0m\u001b[0;34m\u001b[0m\u001b[0;34m\u001b[0m\u001b[0m\n\u001b[0;32m--> 253\u001b[0;31m         \u001b[0mcount\u001b[0m \u001b[0;34m=\u001b[0m \u001b[0mself\u001b[0m\u001b[0;34m.\u001b[0m\u001b[0mwrite_records\u001b[0m\u001b[0;34m(\u001b[0m\u001b[0mrecords\u001b[0m\u001b[0;34m)\u001b[0m\u001b[0;34m\u001b[0m\u001b[0;34m\u001b[0m\u001b[0m\n\u001b[0m\u001b[1;32m    254\u001b[0m         \u001b[0mself\u001b[0m\u001b[0;34m.\u001b[0m\u001b[0mwrite_footer\u001b[0m\u001b[0;34m(\u001b[0m\u001b[0;34m)\u001b[0m\u001b[0;34m\u001b[0m\u001b[0;34m\u001b[0m\u001b[0m\n\u001b[1;32m    255\u001b[0m         \u001b[0;32mreturn\u001b[0m \u001b[0mcount\u001b[0m\u001b[0;34m\u001b[0m\u001b[0;34m\u001b[0m\u001b[0m\n",
      "\u001b[0;32m~/anaconda3/lib/python3.7/site-packages/Bio/SeqIO/Interfaces.py\u001b[0m in \u001b[0;36mwrite_records\u001b[0;34m(self, records)\u001b[0m\n\u001b[1;32m    236\u001b[0m         \u001b[0mcount\u001b[0m \u001b[0;34m=\u001b[0m \u001b[0;36m0\u001b[0m\u001b[0;34m\u001b[0m\u001b[0;34m\u001b[0m\u001b[0m\n\u001b[1;32m    237\u001b[0m         \u001b[0;32mfor\u001b[0m \u001b[0mrecord\u001b[0m \u001b[0;32min\u001b[0m \u001b[0mrecords\u001b[0m\u001b[0;34m:\u001b[0m\u001b[0;34m\u001b[0m\u001b[0;34m\u001b[0m\u001b[0m\n\u001b[0;32m--> 238\u001b[0;31m             \u001b[0mself\u001b[0m\u001b[0;34m.\u001b[0m\u001b[0mwrite_record\u001b[0m\u001b[0;34m(\u001b[0m\u001b[0mrecord\u001b[0m\u001b[0;34m)\u001b[0m\u001b[0;34m\u001b[0m\u001b[0;34m\u001b[0m\u001b[0m\n\u001b[0m\u001b[1;32m    239\u001b[0m             \u001b[0mcount\u001b[0m \u001b[0;34m+=\u001b[0m \u001b[0;36m1\u001b[0m\u001b[0;34m\u001b[0m\u001b[0;34m\u001b[0m\u001b[0m\n\u001b[1;32m    240\u001b[0m         \u001b[0;31m# Mark as true, even if there where no records\u001b[0m\u001b[0;34m\u001b[0m\u001b[0;34m\u001b[0m\u001b[0;34m\u001b[0m\u001b[0m\n",
      "\u001b[0;32m~/anaconda3/lib/python3.7/site-packages/Bio/SeqIO/InsdcIO.py\u001b[0m in \u001b[0;36mwrite_record\u001b[0;34m(self, record)\u001b[0m\n\u001b[1;32m    860\u001b[0m         \u001b[0;34m\"\"\"Write a single record to the output file.\"\"\"\u001b[0m\u001b[0;34m\u001b[0m\u001b[0;34m\u001b[0m\u001b[0m\n\u001b[1;32m    861\u001b[0m         \u001b[0mhandle\u001b[0m \u001b[0;34m=\u001b[0m \u001b[0mself\u001b[0m\u001b[0;34m.\u001b[0m\u001b[0mhandle\u001b[0m\u001b[0;34m\u001b[0m\u001b[0;34m\u001b[0m\u001b[0m\n\u001b[0;32m--> 862\u001b[0;31m         \u001b[0mself\u001b[0m\u001b[0;34m.\u001b[0m\u001b[0m_write_the_first_line\u001b[0m\u001b[0;34m(\u001b[0m\u001b[0mrecord\u001b[0m\u001b[0;34m)\u001b[0m\u001b[0;34m\u001b[0m\u001b[0;34m\u001b[0m\u001b[0m\n\u001b[0m\u001b[1;32m    863\u001b[0m \u001b[0;34m\u001b[0m\u001b[0m\n\u001b[1;32m    864\u001b[0m         \u001b[0mdefault\u001b[0m \u001b[0;34m=\u001b[0m \u001b[0mrecord\u001b[0m\u001b[0;34m.\u001b[0m\u001b[0mid\u001b[0m\u001b[0;34m\u001b[0m\u001b[0;34m\u001b[0m\u001b[0m\n",
      "\u001b[0;32m~/anaconda3/lib/python3.7/site-packages/Bio/SeqIO/InsdcIO.py\u001b[0m in \u001b[0;36m_write_the_first_line\u001b[0;34m(self, record)\u001b[0m\n\u001b[1;32m    638\u001b[0m             \u001b[0;31m# Must be something like NucleotideAlphabet or\u001b[0m\u001b[0;34m\u001b[0m\u001b[0;34m\u001b[0m\u001b[0;34m\u001b[0m\u001b[0m\n\u001b[1;32m    639\u001b[0m             \u001b[0;31m# just the generic Alphabet (default for fasta files)\u001b[0m\u001b[0;34m\u001b[0m\u001b[0;34m\u001b[0m\u001b[0;34m\u001b[0m\u001b[0m\n\u001b[0;32m--> 640\u001b[0;31m             \u001b[0;32mraise\u001b[0m \u001b[0mValueError\u001b[0m\u001b[0;34m(\u001b[0m\u001b[0;34m\"Need a Nucleotide or Protein alphabet\"\u001b[0m\u001b[0;34m)\u001b[0m\u001b[0;34m\u001b[0m\u001b[0;34m\u001b[0m\u001b[0m\n\u001b[0m\u001b[1;32m    641\u001b[0m \u001b[0;34m\u001b[0m\u001b[0m\n\u001b[1;32m    642\u001b[0m         \u001b[0;31m# Get the molecule type\u001b[0m\u001b[0;34m\u001b[0m\u001b[0;34m\u001b[0m\u001b[0;34m\u001b[0m\u001b[0m\n",
      "\u001b[0;31mValueError\u001b[0m: Need a Nucleotide or Protein alphabet"
     ]
    }
   ],
   "source": [
    "SeqIO.write(reduced_dict.values(), \"insulinGenes.gb\", \"genbank\")"
   ]
  },
  {
   "cell_type": "markdown",
   "metadata": {},
   "source": [
    "<br>Let's practice parsing sequence records by adding an alphabet to the sequences in reduced_dict so that we can save the file as a genbank file.\n",
    "<br><br>If you remember, record.seq.alphabet is a property of the **_Seq_** object record.seq. Once you assign it an alphabet, it changes the object."
   ]
  },
  {
   "cell_type": "code",
   "execution_count": 51,
   "metadata": {},
   "outputs": [],
   "source": [
    "for record in reduced_dict.values():\n",
    "    record.seq.alphabet = IUPAC.unambiguous_dna"
   ]
  },
  {
   "cell_type": "markdown",
   "metadata": {},
   "source": [
    "<br>Let's try again to write the genbank file:"
   ]
  },
  {
   "cell_type": "code",
   "execution_count": 52,
   "metadata": {},
   "outputs": [
    {
     "data": {
      "text/plain": [
       "19"
      ]
     },
     "execution_count": 52,
     "metadata": {},
     "output_type": "execute_result"
    }
   ],
   "source": [
    "SeqIO.write(reduced_dict.values(), \"insulinGenes.gb\", \"genbank\")"
   ]
  },
  {
   "cell_type": "markdown",
   "metadata": {},
   "source": [
    "___"
   ]
  },
  {
   "cell_type": "markdown",
   "metadata": {},
   "source": [
    "## <br>Part Six: Converting between file formats"
   ]
  },
  {
   "cell_type": "markdown",
   "metadata": {},
   "source": [
    "<br>In theory, it is very easy to convert between file formats. You just parse a file and then write a file:"
   ]
  },
  {
   "cell_type": "code",
   "execution_count": 53,
   "metadata": {},
   "outputs": [
    {
     "data": {
      "text/plain": [
       "1"
      ]
     },
     "execution_count": 53,
     "metadata": {},
     "output_type": "execute_result"
    }
   ],
   "source": [
    "insulin_sequence = SeqIO.parse(\"sequence.gb\", \"genbank\")\n",
    "SeqIO.write(insulin_sequence, \"insulin_sequence_fasta.fa\", \"fasta\")"
   ]
  },
  {
   "cell_type": "markdown",
   "metadata": {},
   "source": [
    "<br>Biopython can also handle the special needs of **_Multiple Sequence Alignments_** (MSAs). Instead of using **_SeqIO_**, we use **_AlignIO_**:"
   ]
  },
  {
   "cell_type": "code",
   "execution_count": 54,
   "metadata": {},
   "outputs": [],
   "source": [
    "from Bio import AlignIO"
   ]
  },
  {
   "cell_type": "markdown",
   "metadata": {},
   "source": [
    "<br>We can use **_AlignIO_** to convert a ClustalW file to a fasta file of alignments. Just like with SeqIO, if your sequence contains only one alignment, you use **_AlignIO.read()_** instead of **_AlignIO.parse()_**. Note that a single alignment contains multiple sequences, but is still considered a single alignment."
   ]
  },
  {
   "cell_type": "code",
   "execution_count": 55,
   "metadata": {},
   "outputs": [
    {
     "data": {
      "text/plain": [
       "1"
      ]
     },
     "execution_count": 55,
     "metadata": {},
     "output_type": "execute_result"
    }
   ],
   "source": [
    "insulin_alignments = AlignIO.read(\"clustalAlignment.aln\", \"clustal\")\n",
    "AlignIO.write(insulin_alignments, \"fastaAlignment.fa\", \"fasta\")"
   ]
  },
  {
   "cell_type": "markdown",
   "metadata": {},
   "source": [
    "Note that I used the generator object to read the original file in both the SeqIO and AlignIO examples."
   ]
  },
  {
   "cell_type": "markdown",
   "metadata": {},
   "source": [
    "<br>In reality, most file formats include different information or have different requirements, making it not so easy to convert between formats. Let's try to convert our clustalAlignment.aln file into a phylip file:"
   ]
  },
  {
   "cell_type": "code",
   "execution_count": 56,
   "metadata": {},
   "outputs": [
    {
     "ename": "ValueError",
     "evalue": "Repeated name 'ENSCLAP000' (originally 'ENSCLAP00000023088_Clan/1-85'), possibly due to truncation",
     "output_type": "error",
     "traceback": [
      "\u001b[0;31m---------------------------------------------------------------------------\u001b[0m",
      "\u001b[0;31mValueError\u001b[0m                                Traceback (most recent call last)",
      "\u001b[0;32m<ipython-input-56-38ee3c30afb8>\u001b[0m in \u001b[0;36m<module>\u001b[0;34m\u001b[0m\n\u001b[1;32m      1\u001b[0m \u001b[0minsulin_alignments\u001b[0m \u001b[0;34m=\u001b[0m \u001b[0mAlignIO\u001b[0m\u001b[0;34m.\u001b[0m\u001b[0mread\u001b[0m\u001b[0;34m(\u001b[0m\u001b[0;34m\"clustalAlignment.aln\"\u001b[0m\u001b[0;34m,\u001b[0m \u001b[0;34m\"clustal\"\u001b[0m\u001b[0;34m)\u001b[0m\u001b[0;34m\u001b[0m\u001b[0;34m\u001b[0m\u001b[0m\n\u001b[0;32m----> 2\u001b[0;31m \u001b[0mAlignIO\u001b[0m\u001b[0;34m.\u001b[0m\u001b[0mwrite\u001b[0m\u001b[0;34m(\u001b[0m\u001b[0minsulin_alignments\u001b[0m\u001b[0;34m,\u001b[0m \u001b[0;34m\"phylipAlignment.phy\"\u001b[0m\u001b[0;34m,\u001b[0m \u001b[0;34m\"phylip\"\u001b[0m\u001b[0;34m)\u001b[0m\u001b[0;34m\u001b[0m\u001b[0;34m\u001b[0m\u001b[0m\n\u001b[0m",
      "\u001b[0;32m~/anaconda3/lib/python3.7/site-packages/Bio/AlignIO/__init__.py\u001b[0m in \u001b[0;36mwrite\u001b[0;34m(alignments, handle, format)\u001b[0m\n\u001b[1;32m    219\u001b[0m         \u001b[0;32mif\u001b[0m \u001b[0mformat\u001b[0m \u001b[0;32min\u001b[0m \u001b[0m_FormatToWriter\u001b[0m\u001b[0;34m:\u001b[0m\u001b[0;34m\u001b[0m\u001b[0;34m\u001b[0m\u001b[0m\n\u001b[1;32m    220\u001b[0m             \u001b[0mwriter_class\u001b[0m \u001b[0;34m=\u001b[0m \u001b[0m_FormatToWriter\u001b[0m\u001b[0;34m[\u001b[0m\u001b[0mformat\u001b[0m\u001b[0;34m]\u001b[0m\u001b[0;34m\u001b[0m\u001b[0;34m\u001b[0m\u001b[0m\n\u001b[0;32m--> 221\u001b[0;31m             \u001b[0mcount\u001b[0m \u001b[0;34m=\u001b[0m \u001b[0mwriter_class\u001b[0m\u001b[0;34m(\u001b[0m\u001b[0mfp\u001b[0m\u001b[0;34m)\u001b[0m\u001b[0;34m.\u001b[0m\u001b[0mwrite_file\u001b[0m\u001b[0;34m(\u001b[0m\u001b[0malignments\u001b[0m\u001b[0;34m)\u001b[0m\u001b[0;34m\u001b[0m\u001b[0;34m\u001b[0m\u001b[0m\n\u001b[0m\u001b[1;32m    222\u001b[0m         \u001b[0;32melif\u001b[0m \u001b[0mformat\u001b[0m \u001b[0;32min\u001b[0m \u001b[0mSeqIO\u001b[0m\u001b[0;34m.\u001b[0m\u001b[0m_FormatToWriter\u001b[0m\u001b[0;34m:\u001b[0m\u001b[0;34m\u001b[0m\u001b[0;34m\u001b[0m\u001b[0m\n\u001b[1;32m    223\u001b[0m             \u001b[0;31m# Exploit the existing SeqIO parser to do the dirty work!\u001b[0m\u001b[0;34m\u001b[0m\u001b[0;34m\u001b[0m\u001b[0;34m\u001b[0m\u001b[0m\n",
      "\u001b[0;32m~/anaconda3/lib/python3.7/site-packages/Bio/AlignIO/Interfaces.py\u001b[0m in \u001b[0;36mwrite_file\u001b[0;34m(self, alignments)\u001b[0m\n\u001b[1;32m    143\u001b[0m         \u001b[0mcount\u001b[0m \u001b[0;34m=\u001b[0m \u001b[0;36m0\u001b[0m\u001b[0;34m\u001b[0m\u001b[0;34m\u001b[0m\u001b[0m\n\u001b[1;32m    144\u001b[0m         \u001b[0;32mfor\u001b[0m \u001b[0malignment\u001b[0m \u001b[0;32min\u001b[0m \u001b[0malignments\u001b[0m\u001b[0;34m:\u001b[0m\u001b[0;34m\u001b[0m\u001b[0;34m\u001b[0m\u001b[0m\n\u001b[0;32m--> 145\u001b[0;31m             \u001b[0mself\u001b[0m\u001b[0;34m.\u001b[0m\u001b[0mwrite_alignment\u001b[0m\u001b[0;34m(\u001b[0m\u001b[0malignment\u001b[0m\u001b[0;34m)\u001b[0m\u001b[0;34m\u001b[0m\u001b[0;34m\u001b[0m\u001b[0m\n\u001b[0m\u001b[1;32m    146\u001b[0m             \u001b[0mcount\u001b[0m \u001b[0;34m+=\u001b[0m \u001b[0;36m1\u001b[0m\u001b[0;34m\u001b[0m\u001b[0;34m\u001b[0m\u001b[0m\n\u001b[1;32m    147\u001b[0m         \u001b[0mself\u001b[0m\u001b[0;34m.\u001b[0m\u001b[0mwrite_footer\u001b[0m\u001b[0;34m(\u001b[0m\u001b[0;34m)\u001b[0m\u001b[0;34m\u001b[0m\u001b[0;34m\u001b[0m\u001b[0m\n",
      "\u001b[0;32m~/anaconda3/lib/python3.7/site-packages/Bio/AlignIO/PhylipIO.py\u001b[0m in \u001b[0;36mwrite_alignment\u001b[0;34m(self, alignment, id_width)\u001b[0m\n\u001b[1;32m    103\u001b[0m                 raise ValueError(\"Repeated name %r (originally %r), \"\n\u001b[1;32m    104\u001b[0m                                  \u001b[0;34m\"possibly due to truncation\"\u001b[0m\u001b[0;34m\u001b[0m\u001b[0;34m\u001b[0m\u001b[0m\n\u001b[0;32m--> 105\u001b[0;31m                                  % (name, record.id))\n\u001b[0m\u001b[1;32m    106\u001b[0m             \u001b[0mnames\u001b[0m\u001b[0;34m.\u001b[0m\u001b[0mappend\u001b[0m\u001b[0;34m(\u001b[0m\u001b[0mname\u001b[0m\u001b[0;34m)\u001b[0m\u001b[0;34m\u001b[0m\u001b[0;34m\u001b[0m\u001b[0m\n\u001b[1;32m    107\u001b[0m             \u001b[0msequence\u001b[0m \u001b[0;34m=\u001b[0m \u001b[0mstr\u001b[0m\u001b[0;34m(\u001b[0m\u001b[0mrecord\u001b[0m\u001b[0;34m.\u001b[0m\u001b[0mseq\u001b[0m\u001b[0;34m)\u001b[0m\u001b[0;34m\u001b[0m\u001b[0;34m\u001b[0m\u001b[0m\n",
      "\u001b[0;31mValueError\u001b[0m: Repeated name 'ENSCLAP000' (originally 'ENSCLAP00000023088_Clan/1-85'), possibly due to truncation"
     ]
    }
   ],
   "source": [
    "insulin_alignments = AlignIO.read(\"clustalAlignment.aln\", \"clustal\")\n",
    "AlignIO.write(insulin_alignments, \"phylipAlignment.phy\", \"phylip\")"
   ]
  },
  {
   "cell_type": "markdown",
   "metadata": {},
   "source": [
    "<br>The phylip format shortens all sequence names to only the first 10 characters and each sequence name must be unique, but our clustal file has long sequence names in which the first 10 characters are identical."
   ]
  },
  {
   "cell_type": "markdown",
   "metadata": {},
   "source": [
    "### <br>Exercise 6"
   ]
  },
  {
   "cell_type": "markdown",
   "metadata": {},
   "source": [
    "#### This exercise will combine everything we've learned so far. We need to convert the clustalAlignment.aln file into a phylip file, but we received the error above. "
   ]
  },
  {
   "cell_type": "markdown",
   "metadata": {},
   "source": [
    "#### Think through how you will do this. You might need to look at the original file to see how it is formatted. On a piece of paper, write down the steps you will need to take before beginning to code. There are several different solutions to this problem."
   ]
  },
  {
   "cell_type": "code",
   "execution_count": 59,
   "metadata": {},
   "outputs": [],
   "source": [
    "alignment = AlignIO.read(\"clustalAlignment.aln\", \"clustal\")"
   ]
  },
  {
   "cell_type": "code",
   "execution_count": 58,
   "metadata": {},
   "outputs": [
    {
     "data": {
      "text/plain": [
       "1"
      ]
     },
     "execution_count": 58,
     "metadata": {},
     "output_type": "execute_result"
    }
   ],
   "source": [
    "name_dict = {}\n",
    "n = 1\n",
    "for record in alignment:\n",
    "    name_dict[record.id] = \"seq\" + str(n)\n",
    "    record.id = name_dict[record.id]\n",
    "    n +=1\n",
    "\n",
    "AlignIO.write([alignment], \"phylipAlignment.phy\", \"phylip\")\n",
    "\n",
    "#And then you would save the name_dict dictionary to file \n",
    "#so that you can reference it later to know which sequence is which."
   ]
  },
  {
   "cell_type": "code",
   "execution_count": null,
   "metadata": {},
   "outputs": [],
   "source": []
  },
  {
   "cell_type": "code",
   "execution_count": null,
   "metadata": {},
   "outputs": [],
   "source": []
  },
  {
   "cell_type": "code",
   "execution_count": null,
   "metadata": {},
   "outputs": [],
   "source": []
  },
  {
   "cell_type": "code",
   "execution_count": null,
   "metadata": {},
   "outputs": [],
   "source": []
  },
  {
   "cell_type": "markdown",
   "metadata": {},
   "source": [
    "___"
   ]
  },
  {
   "cell_type": "markdown",
   "metadata": {},
   "source": [
    "## <br>Part Seven: Running BLAST"
   ]
  },
  {
   "cell_type": "markdown",
   "metadata": {},
   "source": [
    "NCBI BLAST allows you to compare your sequence with all sequences that are in the NCBI database. However, the output can be difficult to parse."
   ]
  },
  {
   "cell_type": "markdown",
   "metadata": {},
   "source": [
    "<br> First, let's import the **_qblast()_** function from the Bio module:"
   ]
  },
  {
   "cell_type": "code",
   "execution_count": 60,
   "metadata": {},
   "outputs": [],
   "source": [
    "from Bio.Blast.NCBIWWW import qblast"
   ]
  },
  {
   "cell_type": "markdown",
   "metadata": {},
   "source": [
    "The **_qblast()_** function takes three required arguments: the BLAST program to use for the search, the database to search, and a string of your sequence of interest. Other arguments are available that match the options on the BLAST website GUI.\n",
    "<br><br>Earlier we created a SeqRecord object called insulin that we will use as our query string."
   ]
  },
  {
   "cell_type": "code",
   "execution_count": 61,
   "metadata": {},
   "outputs": [
    {
     "data": {
      "text/plain": [
       "SeqRecord(seq=Seq('AGCCCTCCAGGACAGGCTGCATCAGAAGAGGCCATCAAGCAGGTCTGTTCCAAG...AGC', IUPACAmbiguousDNA()), id='NC_000011.10', name='NC_000011', description='Homo sapiens chromosome 11, GRCh38.p13 Primary Assembly', dbxrefs=['BioProject:PRJNA168', 'Assembly:GCF_000001405.39'])"
      ]
     },
     "execution_count": 61,
     "metadata": {},
     "output_type": "execute_result"
    }
   ],
   "source": [
    "insulin"
   ]
  },
  {
   "cell_type": "code",
   "execution_count": 68,
   "metadata": {},
   "outputs": [],
   "source": [
    "results = qblast(\"blastn\", \"nt\", insulin.seq)"
   ]
  },
  {
   "cell_type": "markdown",
   "metadata": {},
   "source": [
    "_(The command above will take a few minutes to run.)_"
   ]
  },
  {
   "cell_type": "markdown",
   "metadata": {},
   "source": [
    "Because these results take a while to run, it is a good idea to save your searches for later use:"
   ]
  },
  {
   "cell_type": "code",
   "execution_count": 69,
   "metadata": {},
   "outputs": [],
   "source": [
    "with open(\"my_blast.xml\", \"w\") as out_handle:\n",
    "    out_handle.write(results.read())\n",
    "results.close()"
   ]
  },
  {
   "cell_type": "markdown",
   "metadata": {},
   "source": [
    "<br>To parse the results, which were returned as a .xml file, we import this object:"
   ]
  },
  {
   "cell_type": "code",
   "execution_count": 70,
   "metadata": {},
   "outputs": [],
   "source": [
    "from Bio.Blast import NCBIXML"
   ]
  },
  {
   "cell_type": "markdown",
   "metadata": {},
   "source": [
    "<br>**_NCBIXML_** has a function called **_parse()_** that we can use to change our results into a readable record IF we ran qblast on multiple query sequences. Additionally, when we use **_parse()_**, our results can only be read or looped through once without reloading the results, since results can be large.\n",
    "<br><br>If we only ran one query sequence, we can use a function called **_read()_**. First we reopen the results file that we saved of our BLAST output:"
   ]
  },
  {
   "cell_type": "code",
   "execution_count": 71,
   "metadata": {},
   "outputs": [],
   "source": [
    "results = open(\"my_blast.xml\")\n",
    "blast_record = NCBIXML.read(results)"
   ]
  },
  {
   "cell_type": "markdown",
   "metadata": {},
   "source": [
    "<br>We can loop through the **_blast record object_**. It is a much more complicated object than the others we have worked with.  Here I am printing the name and score of all BLAST matches with a score greater than 2,000."
   ]
  },
  {
   "cell_type": "code",
   "execution_count": 77,
   "metadata": {},
   "outputs": [
    {
     "name": "stdout",
     "output_type": "stream",
     "text": [
      "****Alignment****\n",
      "sequence: gi|1028630736|ref|NG_050578.1| Homo sapiens INS-IGF2 readthrough (INS-IGF2), RefSeqGene on chromosome 11\n",
      "score: 2862.0\n",
      "****Alignment****\n",
      "sequence: gi|161086962|ref|NG_007114.1| Homo sapiens insulin (INS), RefSeqGene on chromosome 11\n",
      "score: 2862.0\n",
      "****Alignment****\n",
      "sequence: gi|28460836|gb|AC132217.15| Homo sapiens chromosome 11, clone RP11-889I17, complete sequence\n",
      "score: 2862.0\n",
      "****Alignment****\n",
      "sequence: gi|186437|gb|M10039.1|HUMINSPR Human alpha-type insulin gene and 5' flanking polymorphic region\n",
      "score: 2842.0\n",
      "****Alignment****\n",
      "sequence: gi|1036032746|gb|AH002844.2| Homo sapiens insulin (INS) gene, complete cds\n",
      "score: 2838.0\n",
      "****Alignment****\n",
      "sequence: gi|307071|gb|L15440.1|HUMINSTHIG Homo sapiens tyrosine hydroxylase (TH) gene, 3' end; insulin (INS) gene, complete cds; insulin-like growth factor 2 (IGF2) gene, 5' end\n",
      "score: 2838.0\n",
      "****Alignment****\n",
      "sequence: gi|33930|emb|V00565.1| Human gene for preproinsulin, from chromosome 11. Includes a highly polymorphic region upstream from the insulin gene containing tandemly repeated sequences\n",
      "score: 2838.0\n",
      "****Alignment****\n",
      "sequence: gi|1036031581|gb|AH012037.2| Homo sapiens haplotype ICa tyrosine hydroxylase (TH) gene, partial sequence; insulin (INS) gene, complete cds; and insulin-like growth factor 2 (IGF2) gene, partial sequence\n",
      "score: 2837.0\n",
      "****Alignment****\n",
      "sequence: gi|26190552|gb|AC130303.8| Homo sapiens chromosome 11, clone RP4-539G11, complete sequence\n",
      "score: 2837.0\n",
      "****Alignment****\n",
      "sequence: gi|3776077|emb|AJ009655.1| Homo sapiens ins gene, partial\n",
      "score: 2759.0\n",
      "****Alignment****\n",
      "sequence: gi|1036031555|gb|AH011815.2| Gorilla gorilla tyrosine hydroxylase (TH) gene, partial cds; tyrosine hydroxylase/insulin intergenic spacer, partial sequence; and insulin precursor (INS) gene, complete cds\n",
      "score: 2590.0\n",
      "****Alignment****\n",
      "sequence: gi|1036031554|gb|AH011814.2| Pan troglodytes tyrosine hydroxylase (TH) gene, partial cds; and insulin precursor (INS) gene, complete cds\n",
      "score: 2573.0\n",
      "****Alignment****\n",
      "sequence: gi|38251|emb|X61089.1| P.troglodytes gene for preproinsulin\n",
      "score: 2496.0\n",
      "****Alignment****\n",
      "sequence: gi|1036031556|gb|AH011816.2| Pongo pygmaeus tyrosine hydroxylase (TH) gene, partial cds; tyrosine hydroxylase/insulin intergenic spacer, partial sequence; and insulin precursor (INS) gene, complete cds\n",
      "score: 2400.0\n",
      "****Alignment****\n",
      "sequence: gi|168986623|gb|AC199962.4| Pongo abelii BAC clone CH276-476G11 from chromosome unknown, complete sequence\n",
      "score: 2395.0\n"
     ]
    }
   ],
   "source": [
    "for alignment in blast_record.alignments:\n",
    "    for hsp in alignment.hsps:\n",
    "        if hsp.score > 2000:\n",
    "            print(\"****Alignment****\")\n",
    "            print(\"sequence:\", alignment.title)\n",
    "            print(\"score:\", hsp.score)"
   ]
  },
  {
   "cell_type": "markdown",
   "metadata": {},
   "source": [
    "<br>This link will show you all the attributes of a BLAST output file that can be used for parsing: http://biopython.org/DIST/docs/tutorial/Tutorial#fig:blastrecord"
   ]
  },
  {
   "cell_type": "markdown",
   "metadata": {},
   "source": [
    "<br>Another example of parsing BLAST output:"
   ]
  },
  {
   "cell_type": "code",
   "execution_count": 78,
   "metadata": {},
   "outputs": [],
   "source": [
    "c11_list = []\n",
    "for alignment in blast_record.alignments:\n",
    "    if \"chromosome 11\" in alignment.title:\n",
    "        c11_list.append(alignment.title)"
   ]
  },
  {
   "cell_type": "code",
   "execution_count": 79,
   "metadata": {},
   "outputs": [
    {
     "data": {
      "text/plain": [
       "['gi|1028630736|ref|NG_050578.1| Homo sapiens INS-IGF2 readthrough (INS-IGF2), RefSeqGene on chromosome 11',\n",
       " 'gi|161086962|ref|NG_007114.1| Homo sapiens insulin (INS), RefSeqGene on chromosome 11',\n",
       " 'gi|28460836|gb|AC132217.15| Homo sapiens chromosome 11, clone RP11-889I17, complete sequence',\n",
       " 'gi|33930|emb|V00565.1| Human gene for preproinsulin, from chromosome 11. Includes a highly polymorphic region upstream from the insulin gene containing tandemly repeated sequences',\n",
       " 'gi|26190552|gb|AC130303.8| Homo sapiens chromosome 11, clone RP4-539G11, complete sequence']"
      ]
     },
     "execution_count": 79,
     "metadata": {},
     "output_type": "execute_result"
    }
   ],
   "source": [
    "c11_list"
   ]
  },
  {
   "cell_type": "markdown",
   "metadata": {},
   "source": [
    "___"
   ]
  },
  {
   "cell_type": "markdown",
   "metadata": {},
   "source": [
    "### <br><br>Bonus exercise"
   ]
  },
  {
   "cell_type": "markdown",
   "metadata": {},
   "source": [
    "#### <br>Write a script in your text editor of choice (or use the text editor built into Jupyter Lab). The script should take a fasta file with multiple sequences and write a new fasta file with only sequences greater than 200 base pairs in length. You can use the file \"sequence.fasta\" to practice. Remember that your script will have to import the correct commands from the Bio module."
   ]
  },
  {
   "cell_type": "markdown",
   "metadata": {},
   "source": [
    "#### If you are a more advanced Python programmer, use the sys module to read the input file name from the command line."
   ]
  }
 ],
 "metadata": {
  "kernelspec": {
   "display_name": "Python 3",
   "language": "python",
   "name": "python3"
  },
  "language_info": {
   "codemirror_mode": {
    "name": "ipython",
    "version": 3
   },
   "file_extension": ".py",
   "mimetype": "text/x-python",
   "name": "python",
   "nbconvert_exporter": "python",
   "pygments_lexer": "ipython3",
   "version": "3.7.3"
  }
 },
 "nbformat": 4,
 "nbformat_minor": 4
}
