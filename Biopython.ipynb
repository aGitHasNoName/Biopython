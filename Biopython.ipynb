{
 "cells": [
  {
   "cell_type": "markdown",
   "metadata": {},
   "source": [
    "# Biopython: Introduction"
   ]
  },
  {
   "cell_type": "markdown",
   "metadata": {},
   "source": [
    "## Part 0: A review of object-oriented programming in Python"
   ]
  },
  {
   "cell_type": "markdown",
   "metadata": {},
   "source": [
    "<br>The core of Biopython is built around a few key **_objects_**, so let's take a few minutes to review what that means. \n",
    "\n",
    "<br>In python, when you load in a piece of data, you _label_ your data as a particular object type. When you do that, you can then use a particular set of commands specific to that object, and you cannot use other commands that are only available to different objects.\n",
    "\n",
    "\n",
    "<br>For example, strings and lists are two of the most common objects in Python. They have some things in common, but other commands and attributes are specific to only lists or only strings."
   ]
  },
  {
   "cell_type": "markdown",
   "metadata": {},
   "source": [
    "#### Let's say we have a piece of data that looks like this: Welcome <br>We can label this as a list or a string, making two different objects."
   ]
  },
  {
   "cell_type": "code",
   "execution_count": 1,
   "metadata": {},
   "outputs": [],
   "source": [
    "welcome_string = \"Welcome\"\n",
    "welcome_list = [\"W\", \"e\", \"l\", \"c\", \"o\", \"m\", \"e\"]"
   ]
  },
  {
   "cell_type": "markdown",
   "metadata": {},
   "source": [
    "<br>In some ways, these objects **_behave_** the same:"
   ]
  },
  {
   "cell_type": "code",
   "execution_count": 2,
   "metadata": {},
   "outputs": [
    {
     "name": "stdout",
     "output_type": "stream",
     "text": [
      "W\n",
      "W\n"
     ]
    }
   ],
   "source": [
    "print(welcome_string[0])\n",
    "print(welcome_list[0])"
   ]
  },
  {
   "cell_type": "markdown",
   "metadata": {},
   "source": [
    "<br>In other ways, they **_behave_** differently:"
   ]
  },
  {
   "cell_type": "code",
   "execution_count": 3,
   "metadata": {},
   "outputs": [
    {
     "name": "stdout",
     "output_type": "stream",
     "text": [
      "Welcome!\n"
     ]
    }
   ],
   "source": [
    "excited_string = welcome_string + \"!\"\n",
    "print(excited_string)"
   ]
  },
  {
   "cell_type": "code",
   "execution_count": 6,
   "metadata": {},
   "outputs": [
    {
     "ename": "TypeError",
     "evalue": "can only concatenate list (not \"str\") to list",
     "output_type": "error",
     "traceback": [
      "\u001b[0;31m---------------------------------------------------------------------------\u001b[0m",
      "\u001b[0;31mTypeError\u001b[0m                                 Traceback (most recent call last)",
      "\u001b[0;32m<ipython-input-6-e8f1e5c382c8>\u001b[0m in \u001b[0;36m<module>\u001b[0;34m\u001b[0m\n\u001b[0;32m----> 1\u001b[0;31m \u001b[0mexcited_list\u001b[0m \u001b[0;34m=\u001b[0m \u001b[0mwelcome_list\u001b[0m \u001b[0;34m+\u001b[0m \u001b[0;34m\"!\"\u001b[0m\u001b[0;34m\u001b[0m\u001b[0;34m\u001b[0m\u001b[0m\n\u001b[0m\u001b[1;32m      2\u001b[0m \u001b[0mprint\u001b[0m\u001b[0;34m(\u001b[0m\u001b[0mexcited_list\u001b[0m\u001b[0;34m)\u001b[0m\u001b[0;34m\u001b[0m\u001b[0;34m\u001b[0m\u001b[0m\n",
      "\u001b[0;31mTypeError\u001b[0m: can only concatenate list (not \"str\") to list"
     ]
    }
   ],
   "source": [
    "excited_list = welcome_list + \"!\"\n",
    "print(excited_list)"
   ]
  },
  {
   "cell_type": "markdown",
   "metadata": {},
   "source": [
    "<br><br>**_Attributes_** are both _properties_ of our object and _functions_ that can be applied to our object. Some are shared between objects and others are specific to one object. _They are added on at the end of our object._"
   ]
  },
  {
   "cell_type": "markdown",
   "metadata": {},
   "source": [
    "<br>You'll notice that many attributes are functions, so they are followed by parantheses. Some of those functions require you to enter **_parameters_** inside the parantheses:"
   ]
  },
  {
   "cell_type": "code",
   "execution_count": 7,
   "metadata": {},
   "outputs": [
    {
     "name": "stdout",
     "output_type": "stream",
     "text": [
      "['W', 'e', 'l', 'c', 'o', 'm', 'e', '!']\n"
     ]
    }
   ],
   "source": [
    "welcome_list.append(\"!\")\n",
    "print(welcome_list)"
   ]
  },
  {
   "cell_type": "markdown",
   "metadata": {},
   "source": [
    "<br>Other functions do not require you to include parameters:"
   ]
  },
  {
   "cell_type": "code",
   "execution_count": 8,
   "metadata": {},
   "outputs": [
    {
     "name": "stdout",
     "output_type": "stream",
     "text": [
      "WELCOME!\n"
     ]
    }
   ],
   "source": [
    "upper_string = excited_string.upper()\n",
    "print(upper_string)"
   ]
  },
  {
   "cell_type": "markdown",
   "metadata": {},
   "source": [
    "<br>Some functions change the object:"
   ]
  },
  {
   "cell_type": "code",
   "execution_count": 9,
   "metadata": {},
   "outputs": [
    {
     "name": "stdout",
     "output_type": "stream",
     "text": [
      "['!', 'e', 'm', 'o', 'c', 'l', 'e', 'W']\n"
     ]
    }
   ],
   "source": [
    "welcome_list.reverse()\n",
    "print(welcome_list)"
   ]
  },
  {
   "cell_type": "markdown",
   "metadata": {},
   "source": [
    "<br>Others only **_return_** a changed object, without actually changing the object:"
   ]
  },
  {
   "cell_type": "code",
   "execution_count": 10,
   "metadata": {},
   "outputs": [
    {
     "name": "stdout",
     "output_type": "stream",
     "text": [
      "WELCOME?\n",
      "WELCOME!\n"
     ]
    }
   ],
   "source": [
    "print(upper_string.replace(\"!\", \"?\"))\n",
    "print(upper_string)"
   ]
  },
  {
   "cell_type": "markdown",
   "metadata": {},
   "source": [
    "<br>Some return only True or False:"
   ]
  },
  {
   "cell_type": "code",
   "execution_count": null,
   "metadata": {},
   "outputs": [],
   "source": [
    "upper_string.isupper()"
   ]
  },
  {
   "cell_type": "markdown",
   "metadata": {},
   "source": [
    "<br>You can view all the attributes of an object by using the \"dir\" command:"
   ]
  },
  {
   "cell_type": "code",
   "execution_count": 11,
   "metadata": {},
   "outputs": [
    {
     "data": {
      "text/plain": [
       "['__add__',\n",
       " '__class__',\n",
       " '__contains__',\n",
       " '__delattr__',\n",
       " '__delitem__',\n",
       " '__dir__',\n",
       " '__doc__',\n",
       " '__eq__',\n",
       " '__format__',\n",
       " '__ge__',\n",
       " '__getattribute__',\n",
       " '__getitem__',\n",
       " '__gt__',\n",
       " '__hash__',\n",
       " '__iadd__',\n",
       " '__imul__',\n",
       " '__init__',\n",
       " '__init_subclass__',\n",
       " '__iter__',\n",
       " '__le__',\n",
       " '__len__',\n",
       " '__lt__',\n",
       " '__mul__',\n",
       " '__ne__',\n",
       " '__new__',\n",
       " '__reduce__',\n",
       " '__reduce_ex__',\n",
       " '__repr__',\n",
       " '__reversed__',\n",
       " '__rmul__',\n",
       " '__setattr__',\n",
       " '__setitem__',\n",
       " '__sizeof__',\n",
       " '__str__',\n",
       " '__subclasshook__',\n",
       " 'append',\n",
       " 'clear',\n",
       " 'copy',\n",
       " 'count',\n",
       " 'extend',\n",
       " 'index',\n",
       " 'insert',\n",
       " 'pop',\n",
       " 'remove',\n",
       " 'reverse',\n",
       " 'sort']"
      ]
     },
     "execution_count": 11,
     "metadata": {},
     "output_type": "execute_result"
    }
   ],
   "source": [
    "dir(welcome_list)"
   ]
  },
  {
   "cell_type": "markdown",
   "metadata": {},
   "source": [
    "<br>You can see that some of the attributes start and end with two underscores. These are sometimes called **_dunder_** functions. They are system functions. They are used by developers when writing new python packages. They do work on their own, but they are not meant for everyday use. "
   ]
  },
  {
   "cell_type": "markdown",
   "metadata": {},
   "source": [
    "<br>Not all object attributes are functions. Some are _properties_ of the object. These do not use parantheses. Let's use one of the dunder attributes for the list object to illustrate an example of this type of attribute.\n",
    "\n",
    "<br>list.\\_\\_doc__ gives us the documentation text for the list object."
   ]
  },
  {
   "cell_type": "code",
   "execution_count": 12,
   "metadata": {},
   "outputs": [
    {
     "data": {
      "text/plain": [
       "'Built-in mutable sequence.\\n\\nIf no argument is given, the constructor creates a new empty list.\\nThe argument must be an iterable if specified.'"
      ]
     },
     "execution_count": 12,
     "metadata": {},
     "output_type": "execute_result"
    }
   ],
   "source": [
    "welcome_list.__doc__"
   ]
  },
  {
   "cell_type": "markdown",
   "metadata": {},
   "source": [
    "___"
   ]
  },
  {
   "cell_type": "markdown",
   "metadata": {},
   "source": [
    "\n",
    "## <br><br>Part One: The Seq object"
   ]
  },
  {
   "cell_type": "markdown",
   "metadata": {},
   "source": [
    "<br>The first object we are going to work with is the **_Seq_** object. This is a sequence (DNA, protein, etc.)\n",
    "\n",
    "\n",
    "\n",
    "#### <br>Let's import the code only for the Seq object from the Biopython module:"
   ]
  },
  {
   "cell_type": "code",
   "execution_count": 13,
   "metadata": {},
   "outputs": [],
   "source": [
    "from Bio.Seq import Seq"
   ]
  },
  {
   "cell_type": "markdown",
   "metadata": {},
   "source": [
    "<br><br>We can enter a sequence from scratch and assign it to a variable. To do this, we use the function we just imported, Seq, to let the computer know that this is a Seq object and not an ordinary string."
   ]
  },
  {
   "cell_type": "code",
   "execution_count": 14,
   "metadata": {},
   "outputs": [
    {
     "data": {
      "text/plain": [
       "Seq('AGTACACTGGT')"
      ]
     },
     "execution_count": 14,
     "metadata": {},
     "output_type": "execute_result"
    }
   ],
   "source": [
    "my_seq = Seq(\"AGTACACTGGT\")\n",
    "my_seq"
   ]
  },
  {
   "cell_type": "code",
   "execution_count": 15,
   "metadata": {},
   "outputs": [
    {
     "name": "stdout",
     "output_type": "stream",
     "text": [
      "AGTACACTGGT\n"
     ]
    }
   ],
   "source": [
    "print(my_seq)"
   ]
  },
  {
   "cell_type": "markdown",
   "metadata": {},
   "source": [
    "<br><br>A Seq object actually has two data attributes: the _sequence_, and an _alphabet_ attribute that identifies how the sequence should be read (as DNA, as RNA, as protein, etc.). "
   ]
  },
  {
   "cell_type": "code",
   "execution_count": 16,
   "metadata": {},
   "outputs": [
    {
     "data": {
      "text/plain": [
       "Alphabet()"
      ]
     },
     "execution_count": 16,
     "metadata": {},
     "output_type": "execute_result"
    }
   ],
   "source": [
    "my_seq.alphabet"
   ]
  },
  {
   "cell_type": "markdown",
   "metadata": {},
   "source": [
    "<br><br>Our example sequence is actually a DNA sequence. If it is important, we can tell the computer which alphabet to use. First, we need to import the alphabet for DNA. For more about IUPAC, check out [this link.](https://iupac.org/who-we-are/)"
   ]
  },
  {
   "cell_type": "code",
   "execution_count": 17,
   "metadata": {},
   "outputs": [],
   "source": [
    "from Bio.Alphabet import IUPAC"
   ]
  },
  {
   "cell_type": "code",
   "execution_count": 18,
   "metadata": {},
   "outputs": [],
   "source": [
    "my_seq.alphabet = IUPAC.unambiguous_dna"
   ]
  },
  {
   "cell_type": "code",
   "execution_count": 19,
   "metadata": {},
   "outputs": [
    {
     "data": {
      "text/plain": [
       "Seq('AGTACACTGGT', IUPACUnambiguousDNA())"
      ]
     },
     "execution_count": 19,
     "metadata": {},
     "output_type": "execute_result"
    }
   ],
   "source": [
    "my_seq"
   ]
  },
  {
   "cell_type": "code",
   "execution_count": 20,
   "metadata": {},
   "outputs": [
    {
     "data": {
      "text/plain": [
       "IUPACUnambiguousDNA()"
      ]
     },
     "execution_count": 20,
     "metadata": {},
     "output_type": "execute_result"
    }
   ],
   "source": [
    "my_seq.alphabet"
   ]
  },
  {
   "cell_type": "markdown",
   "metadata": {},
   "source": [
    "You may notice that the alphabet attribute of the Seq object does not require parantheses. Alphabet is a characteristic of the object, it tells us something about what the object is, instead of a function, which does something to the object."
   ]
  },
  {
   "cell_type": "markdown",
   "metadata": {},
   "source": [
    "<br>Let's view the different attributes of my_seq:"
   ]
  },
  {
   "cell_type": "code",
   "execution_count": 21,
   "metadata": {},
   "outputs": [
    {
     "data": {
      "text/plain": [
       "['__add__',\n",
       " '__class__',\n",
       " '__contains__',\n",
       " '__delattr__',\n",
       " '__dict__',\n",
       " '__dir__',\n",
       " '__doc__',\n",
       " '__eq__',\n",
       " '__format__',\n",
       " '__ge__',\n",
       " '__getattribute__',\n",
       " '__getitem__',\n",
       " '__gt__',\n",
       " '__hash__',\n",
       " '__imul__',\n",
       " '__init__',\n",
       " '__init_subclass__',\n",
       " '__le__',\n",
       " '__len__',\n",
       " '__lt__',\n",
       " '__module__',\n",
       " '__mul__',\n",
       " '__ne__',\n",
       " '__new__',\n",
       " '__radd__',\n",
       " '__reduce__',\n",
       " '__reduce_ex__',\n",
       " '__repr__',\n",
       " '__rmul__',\n",
       " '__setattr__',\n",
       " '__sizeof__',\n",
       " '__str__',\n",
       " '__subclasshook__',\n",
       " '__weakref__',\n",
       " '_data',\n",
       " '_get_seq_str_and_check_alphabet',\n",
       " 'alphabet',\n",
       " 'back_transcribe',\n",
       " 'complement',\n",
       " 'count',\n",
       " 'count_overlap',\n",
       " 'endswith',\n",
       " 'find',\n",
       " 'join',\n",
       " 'lower',\n",
       " 'lstrip',\n",
       " 'reverse_complement',\n",
       " 'rfind',\n",
       " 'rsplit',\n",
       " 'rstrip',\n",
       " 'split',\n",
       " 'startswith',\n",
       " 'strip',\n",
       " 'tomutable',\n",
       " 'transcribe',\n",
       " 'translate',\n",
       " 'ungap',\n",
       " 'upper']"
      ]
     },
     "execution_count": 21,
     "metadata": {},
     "output_type": "execute_result"
    }
   ],
   "source": [
    "dir(my_seq)"
   ]
  },
  {
   "cell_type": "markdown",
   "metadata": {},
   "source": [
    "### <br>Exercise 1."
   ]
  },
  {
   "cell_type": "markdown",
   "metadata": {},
   "source": [
    "#### Using the my_seq object we created, try out a few of the attributes listed above. Try to identify 1 that does not use (), 1 that uses () with no parameters given, and 1 that uses () with a given parameter."
   ]
  },
  {
   "cell_type": "code",
   "execution_count": null,
   "metadata": {},
   "outputs": [],
   "source": [
    "#Example of an attribute that uses () with a given parameter:\n",
    "#my_seq.__contains__(\"A\")"
   ]
  },
  {
   "cell_type": "code",
   "execution_count": null,
   "metadata": {},
   "outputs": [],
   "source": []
  },
  {
   "cell_type": "code",
   "execution_count": null,
   "metadata": {},
   "outputs": [],
   "source": []
  },
  {
   "cell_type": "code",
   "execution_count": null,
   "metadata": {},
   "outputs": [],
   "source": []
  },
  {
   "cell_type": "markdown",
   "metadata": {},
   "source": [
    "### <br>Exercise 2."
   ]
  },
  {
   "cell_type": "markdown",
   "metadata": {},
   "source": [
    "#### Create a new object called my_protein with a sequence of MALWMRLLPL. Tell the computer to use the IUPAC alphabet called \"protein\"."
   ]
  },
  {
   "cell_type": "code",
   "execution_count": null,
   "metadata": {},
   "outputs": [],
   "source": [
    "my_protein = Seq(\"MALWMRLLPL\")\n",
    "my_protein.alphabet = IUPAC.protein\n",
    "#Or:\n",
    "#my_protein = Seq(\"MALWMRLLPL\", alphabet=IUPAC.protein)"
   ]
  },
  {
   "cell_type": "markdown",
   "metadata": {},
   "source": [
    "#### <br>The computer knows this is a protein. Will that change which attributes can be applied to this sequence compared to my_seq? Try out a function that you think probably won't work with a protein sequence and see what happens."
   ]
  },
  {
   "cell_type": "code",
   "execution_count": null,
   "metadata": {},
   "outputs": [],
   "source": [
    "my_protein.transcribe()"
   ]
  },
  {
   "cell_type": "markdown",
   "metadata": {},
   "source": [
    "___"
   ]
  },
  {
   "cell_type": "markdown",
   "metadata": {},
   "source": [
    "## <br><br>Part Two: Reading sequence files"
   ]
  },
  {
   "cell_type": "markdown",
   "metadata": {},
   "source": [
    "So far we've worked with a sequence that we entered by hand. More often, however, we'll be working with sequences from files.\n",
    "\n",
    "\n",
    "<br>We can use **_SeqIO_** (that's the letter O) from the Bio module to load many different types of sequence files."
   ]
  },
  {
   "cell_type": "markdown",
   "metadata": {},
   "source": [
    "[Click here to view a list of file types that work with Biopython](https://biopython.org/wiki/SeqIO)"
   ]
  },
  {
   "cell_type": "code",
   "execution_count": 22,
   "metadata": {},
   "outputs": [],
   "source": [
    "from Bio import SeqIO"
   ]
  },
  {
   "cell_type": "markdown",
   "metadata": {},
   "source": [
    "<br>**_SeqIO.parse()_** is the function for reading the file. It takes two parameters: the path to the file, and the type of file in lowercase text. <br>\n",
    "Let's load in a genbank sequence of the human insulin gene:"
   ]
  },
  {
   "cell_type": "code",
   "execution_count": 23,
   "metadata": {},
   "outputs": [],
   "source": [
    "insulin_gene = SeqIO.parse(\"sequence.gb\", \"genbank\")"
   ]
  },
  {
   "cell_type": "code",
   "execution_count": 24,
   "metadata": {},
   "outputs": [
    {
     "name": "stdout",
     "output_type": "stream",
     "text": [
      "<generator object parse at 0x111302e58>\n"
     ]
    }
   ],
   "source": [
    "print(insulin_gene)"
   ]
  },
  {
   "cell_type": "markdown",
   "metadata": {},
   "source": [
    "<br>When you use SeqIO.parse, the computer creates a **_generator_** object. This means the sequences are not stored in memory, which is great if you want to filter or loop through a very large file that contains many sequences or very long sequences.\n",
    "<br><br>To access the data, we can loop through the generator object and read each sequence that is contained inside."
   ]
  },
  {
   "cell_type": "code",
   "execution_count": 25,
   "metadata": {},
   "outputs": [
    {
     "name": "stdout",
     "output_type": "stream",
     "text": [
      "ID: NC_000011.10\n",
      "Name: NC_000011\n",
      "Description: Homo sapiens chromosome 11, GRCh38.p13 Primary Assembly\n",
      "Database cross-references: BioProject:PRJNA168, Assembly:GCF_000001405.39\n",
      "Number of features: 32\n",
      "/molecule_type=DNA\n",
      "/topology=linear\n",
      "/data_file_division=CON\n",
      "/date=09-SEP-2019\n",
      "/accessions=['NC_000011', 'REGION:', '2129117..2161209']\n",
      "/sequence_version=10\n",
      "/keywords=['RefSeq']\n",
      "/source=Homo sapiens (human)\n",
      "/organism=Homo sapiens\n",
      "/taxonomy=['Eukaryota', 'Metazoa', 'Chordata', 'Craniata', 'Vertebrata', 'Euteleostomi', 'Mammalia', 'Eutheria', 'Euarchontoglires', 'Primates', 'Haplorrhini', 'Catarrhini', 'Hominidae', 'Homo']\n",
      "/references=[Reference(title='Human chromosome 11 DNA sequence and analysis including novel gene identification', ...), Reference(title='Finishing the euchromatic sequence of the human genome', ...), Reference(title='Initial sequencing and analysis of the human genome', ...)]\n",
      "/comment=REFSEQ INFORMATION: The reference sequence is identical to\n",
      "CM000673.2.\n",
      "On Feb 3, 2014 this sequence version replaced NC_000011.9.\n",
      "Assembly Name: GRCh38.p13 Primary Assembly\n",
      "The DNA sequence is composed of genomic sequence, primarily\n",
      "finished clones that were sequenced as part of the Human Genome\n",
      "Project. PCR products and WGS shotgun sequence have been added\n",
      "where necessary to fill gaps or correct errors. All such additions\n",
      "are manually curated by GRC staff. For more information see:\n",
      "https://genomereference.org.\n",
      "                               Release 109.20190905\n",
      "                               pipeline\n",
      "                               RefSeq model\n",
      "/structured_comment=OrderedDict([('Genome-Annotation-Data', OrderedDict([('Annotation Provider', 'NCBI'), ('Annotation Status', 'Updated annotation'), ('Annotation Name', 'Homo sapiens Updated Annotation'), ('Annotation Version', '109.20190905'), ('Annotation Pipeline', 'NCBI eukaryotic genome annotation'), ('Annotation Software Version', '8.2'), ('Annotation Method', 'Best-placed RefSeq; propagated'), ('Features Annotated', 'Gene; mRNA; CDS; ncRNA')]))])\n",
      "Seq('TCATGACTTTTAATGCTTTATTGGGATTGCAAGCGTTACAAGGTTAAAGACAAA...GCT', IUPACAmbiguousDNA())\n"
     ]
    }
   ],
   "source": [
    "for i in insulin_gene:\n",
    "    print(i)"
   ]
  },
  {
   "cell_type": "markdown",
   "metadata": {},
   "source": [
    "<br>Our file only contained one sequence."
   ]
  },
  {
   "cell_type": "markdown",
   "metadata": {},
   "source": [
    "<br> We can also load our file into memory by loading it as a **_dictionary_**. This might make the data easier to parse, especially if you are familiar with dictionaries. To do this, we use the **_SeqIO.parse()_** function inside the **_SeqIO.to_dict()_** function:"
   ]
  },
  {
   "cell_type": "code",
   "execution_count": 26,
   "metadata": {},
   "outputs": [],
   "source": [
    "insulin_dict = SeqIO.to_dict(SeqIO.parse(\"sequence.gb\", \"genbank\"))"
   ]
  },
  {
   "cell_type": "code",
   "execution_count": 27,
   "metadata": {},
   "outputs": [
    {
     "data": {
      "text/plain": [
       "{'NC_000011.10': SeqRecord(seq=Seq('TCATGACTTTTAATGCTTTATTGGGATTGCAAGCGTTACAAGGTTAAAGACAAA...GCT', IUPACAmbiguousDNA()), id='NC_000011.10', name='NC_000011', description='Homo sapiens chromosome 11, GRCh38.p13 Primary Assembly', dbxrefs=['BioProject:PRJNA168', 'Assembly:GCF_000001405.39'])}"
      ]
     },
     "execution_count": 27,
     "metadata": {},
     "output_type": "execute_result"
    }
   ],
   "source": [
    "insulin_dict"
   ]
  },
  {
   "cell_type": "markdown",
   "metadata": {},
   "source": [
    "<br>Note: The sequence id is used as the key in the dictionary."
   ]
  },
  {
   "cell_type": "markdown",
   "metadata": {},
   "source": [
    "### <br>Exercise 3."
   ]
  },
  {
   "cell_type": "markdown",
   "metadata": {},
   "source": [
    "#### Load in the fasta file, sequence.fasta, as a dictionary called fasta_dict. You will use \"fasta\" as the file type."
   ]
  },
  {
   "cell_type": "code",
   "execution_count": 79,
   "metadata": {},
   "outputs": [],
   "source": [
    "fasta_dict = SeqIO.to_dict(SeqIO.parse(\"sequence.fasta\", \"fasta\"))"
   ]
  },
  {
   "cell_type": "markdown",
   "metadata": {},
   "source": [
    "#### This fasta file was downloaded from NCBI. It contains human insulin sequences on chromosome 11 of length between 100 and 10,000 bp.\n",
    "#### <br>How many sequences are in fasta_dict?"
   ]
  },
  {
   "cell_type": "code",
   "execution_count": 80,
   "metadata": {},
   "outputs": [
    {
     "data": {
      "text/plain": [
       "52"
      ]
     },
     "execution_count": 80,
     "metadata": {},
     "output_type": "execute_result"
    }
   ],
   "source": [
    "len(fasta_dict)"
   ]
  },
  {
   "cell_type": "markdown",
   "metadata": {},
   "source": [
    "#### Print the sequence with id \"NG_052838.1\"."
   ]
  },
  {
   "cell_type": "code",
   "execution_count": 81,
   "metadata": {},
   "outputs": [
    {
     "data": {
      "text/plain": [
       "SeqRecord(seq=Seq('GGGCAAATGTCTCCAGGAGAGCAAAGCCCTCACCTGGGCCACTTTCCACATTAG...CCT', SingleLetterAlphabet()), id='NG_052838.1', name='NG_052838.1', description='NG_052838.1 Homo sapiens insulin repeat instability region (LOC109623489) on chromosome 11', dbxrefs=[])"
      ]
     },
     "execution_count": 81,
     "metadata": {},
     "output_type": "execute_result"
    }
   ],
   "source": [
    "fasta_dict[\"NG_052838.1\"]"
   ]
  },
  {
   "cell_type": "markdown",
   "metadata": {},
   "source": [
    "___"
   ]
  },
  {
   "cell_type": "markdown",
   "metadata": {},
   "source": [
    "## <br><br>Part Three: The SeqRecord object"
   ]
  },
  {
   "cell_type": "markdown",
   "metadata": {},
   "source": [
    "<br> There are several different sequence file types (too many!). Most contain more information than just the sequence. \n",
    "\n",
    "\n",
    "<br>A **_SeqRecord_** is another object that has its own attributes and functions. The **_Seq_** object that we learned above is one attribute of the SeqRecord. The Seq object retains all of its own attributes and functions, so you can think of it as a sub-object inside the SeqRecord object. \n",
    "\n",
    "\n",
    "<br>When we loaded our insulin sequence above, both as a generator object and as a dictionary, SeqIO labelled each record as a SeqRecord object. Let's look at one SeqRecord:"
   ]
  },
  {
   "cell_type": "code",
   "execution_count": 31,
   "metadata": {},
   "outputs": [],
   "source": [
    "insulin = insulin_dict['NC_000011.10']"
   ]
  },
  {
   "cell_type": "code",
   "execution_count": 32,
   "metadata": {},
   "outputs": [
    {
     "data": {
      "text/plain": [
       "SeqRecord(seq=Seq('TCATGACTTTTAATGCTTTATTGGGATTGCAAGCGTTACAAGGTTAAAGACAAA...GCT', IUPACAmbiguousDNA()), id='NC_000011.10', name='NC_000011', description='Homo sapiens chromosome 11, GRCh38.p13 Primary Assembly', dbxrefs=['BioProject:PRJNA168', 'Assembly:GCF_000001405.39'])"
      ]
     },
     "execution_count": 32,
     "metadata": {},
     "output_type": "execute_result"
    }
   ],
   "source": [
    "insulin"
   ]
  },
  {
   "cell_type": "markdown",
   "metadata": {},
   "source": [
    "Let's see what attributes this object has:"
   ]
  },
  {
   "cell_type": "code",
   "execution_count": 33,
   "metadata": {},
   "outputs": [
    {
     "data": {
      "text/plain": [
       "['__add__',\n",
       " '__bool__',\n",
       " '__class__',\n",
       " '__contains__',\n",
       " '__delattr__',\n",
       " '__dict__',\n",
       " '__dir__',\n",
       " '__doc__',\n",
       " '__eq__',\n",
       " '__format__',\n",
       " '__ge__',\n",
       " '__getattribute__',\n",
       " '__getitem__',\n",
       " '__gt__',\n",
       " '__hash__',\n",
       " '__init__',\n",
       " '__init_subclass__',\n",
       " '__iter__',\n",
       " '__le__',\n",
       " '__le___',\n",
       " '__len__',\n",
       " '__lt__',\n",
       " '__module__',\n",
       " '__ne__',\n",
       " '__new__',\n",
       " '__nonzero__',\n",
       " '__radd__',\n",
       " '__reduce__',\n",
       " '__reduce_ex__',\n",
       " '__repr__',\n",
       " '__setattr__',\n",
       " '__sizeof__',\n",
       " '__str__',\n",
       " '__subclasshook__',\n",
       " '__weakref__',\n",
       " '_per_letter_annotations',\n",
       " '_seq',\n",
       " '_set_per_letter_annotations',\n",
       " '_set_seq',\n",
       " 'annotations',\n",
       " 'dbxrefs',\n",
       " 'description',\n",
       " 'features',\n",
       " 'format',\n",
       " 'id',\n",
       " 'letter_annotations',\n",
       " 'lower',\n",
       " 'name',\n",
       " 'reverse_complement',\n",
       " 'seq',\n",
       " 'translate',\n",
       " 'upper']"
      ]
     },
     "execution_count": 33,
     "metadata": {},
     "output_type": "execute_result"
    }
   ],
   "source": [
    "dir(insulin)"
   ]
  },
  {
   "cell_type": "markdown",
   "metadata": {},
   "source": [
    "<br>We can print attributes from our record:"
   ]
  },
  {
   "cell_type": "code",
   "execution_count": 34,
   "metadata": {},
   "outputs": [
    {
     "data": {
      "text/plain": [
       "'Homo sapiens chromosome 11, GRCh38.p13 Primary Assembly'"
      ]
     },
     "execution_count": 34,
     "metadata": {},
     "output_type": "execute_result"
    }
   ],
   "source": [
    "insulin.description"
   ]
  },
  {
   "cell_type": "code",
   "execution_count": 35,
   "metadata": {},
   "outputs": [
    {
     "data": {
      "text/plain": [
       "Seq('TCATGACTTTTAATGCTTTATTGGGATTGCAAGCGTTACAAGGTTAAAGACAAA...GCT', IUPACAmbiguousDNA())"
      ]
     },
     "execution_count": 35,
     "metadata": {},
     "output_type": "execute_result"
    }
   ],
   "source": [
    "insulin.seq"
   ]
  },
  {
   "cell_type": "code",
   "execution_count": 39,
   "metadata": {},
   "outputs": [
    {
     "data": {
      "text/plain": [
       "IUPACAmbiguousDNA()"
      ]
     },
     "execution_count": 39,
     "metadata": {},
     "output_type": "execute_result"
    }
   ],
   "source": [
    "insulin.seq.alphabet"
   ]
  },
  {
   "cell_type": "markdown",
   "metadata": {},
   "source": [
    "___"
   ]
  },
  {
   "cell_type": "markdown",
   "metadata": {},
   "source": [
    "### <br>Part Four: Parsing records"
   ]
  },
  {
   "cell_type": "markdown",
   "metadata": {},
   "source": [
    "<br> Now we can filter and transform our sequences in bulk. Let's write a loop to make a new dictionary that returns the reverse complements of all the sequences in the fasta_dict."
   ]
  },
  {
   "cell_type": "code",
   "execution_count": 86,
   "metadata": {},
   "outputs": [],
   "source": [
    "#In case you changed it in the previous exercise, we will reload the dictionary first.\n",
    "fasta_dict = SeqIO.to_dict(SeqIO.parse(\"sequence.fasta\", \"fasta\"))"
   ]
  },
  {
   "cell_type": "code",
   "execution_count": 87,
   "metadata": {},
   "outputs": [],
   "source": [
    "reverse_dict = {}"
   ]
  },
  {
   "cell_type": "code",
   "execution_count": 88,
   "metadata": {},
   "outputs": [],
   "source": [
    "for id, record in fasta_dict.items():\n",
    "    reverse_dict[id] = record.reverse_complement()\n",
    "\n",
    "    "
   ]
  },
  {
   "cell_type": "markdown",
   "metadata": {},
   "source": [
    "<br> We can test the output by looking at the same sequence in the original dictionary and in the reversed dictionary:"
   ]
  },
  {
   "cell_type": "code",
   "execution_count": 89,
   "metadata": {},
   "outputs": [
    {
     "data": {
      "text/plain": [
       "SeqRecord(seq=Seq('GGGCAAATGTCTCCAGGAGAGCAAAGCCCTCACCTGGGCCACTTTCCACATTAG...CCT', SingleLetterAlphabet()), id='NG_052838.1', name='NG_052838.1', description='NG_052838.1 Homo sapiens insulin repeat instability region (LOC109623489) on chromosome 11', dbxrefs=[])"
      ]
     },
     "execution_count": 89,
     "metadata": {},
     "output_type": "execute_result"
    }
   ],
   "source": [
    "fasta_dict[\"NG_052838.1\"]"
   ]
  },
  {
   "cell_type": "code",
   "execution_count": 90,
   "metadata": {},
   "outputs": [
    {
     "data": {
      "text/plain": [
       "SeqRecord(seq=Seq('AGGCAGCCAGCAGGGAGGGGACCCCTCCCTCACTCCCACTCTCCCACCCCCACC...CCC', SingleLetterAlphabet()), id='<unknown id>', name='<unknown name>', description='<unknown description>', dbxrefs=[])"
      ]
     },
     "execution_count": 90,
     "metadata": {},
     "output_type": "execute_result"
    }
   ],
   "source": [
    "reverse_dict[\"NG_052838.1\"]"
   ]
  },
  {
   "cell_type": "markdown",
   "metadata": {},
   "source": [
    "<br>What differences do you see between the two dictionaries other than just the change in the sequence?"
   ]
  },
  {
   "cell_type": "markdown",
   "metadata": {},
   "source": [
    "### <br>Exercise 4"
   ]
  },
  {
   "cell_type": "markdown",
   "metadata": {},
   "source": [
    "#### Our fasta_dict contains some minisatellite sequences, which we do not want to include. (Minisatellites are parts of the genome with a high number of repeated DNA segments and are useful for studying population level genetic diversity.) Minisatellites are short, but we cannot filter by length because there are some short exon sequences that we do want to keep. <br>\n",
    "#### <br> Create a new dictionary called reduced_dict. Use a loop to only include sequences that do not contain the word \"minisatellite\" in the SeqRecord name."
   ]
  },
  {
   "cell_type": "code",
   "execution_count": 91,
   "metadata": {},
   "outputs": [],
   "source": [
    "reduced_dict = {}"
   ]
  },
  {
   "cell_type": "code",
   "execution_count": 92,
   "metadata": {},
   "outputs": [],
   "source": [
    "for i_d, record in fasta_dict.items():\n",
    "    if \"minisatellite\" not in record.description:\n",
    "        reduced_dict[i_d] = record"
   ]
  },
  {
   "cell_type": "markdown",
   "metadata": {},
   "source": [
    "#### How many sequences are in the reduced_dict?"
   ]
  },
  {
   "cell_type": "code",
   "execution_count": 101,
   "metadata": {},
   "outputs": [
    {
     "data": {
      "text/plain": [
       "19"
      ]
     },
     "execution_count": 101,
     "metadata": {},
     "output_type": "execute_result"
    }
   ],
   "source": [
    "len(reduced_dict)"
   ]
  },
  {
   "cell_type": "code",
   "execution_count": 99,
   "metadata": {},
   "outputs": [
    {
     "name": "stdout",
     "output_type": "stream",
     "text": [
      "3943\n",
      "7496\n",
      "1393\n",
      "4992\n",
      "598\n",
      "8416\n",
      "186\n",
      "192\n",
      "4965\n",
      "9660\n",
      "5120\n",
      "272\n",
      "250\n",
      "4156\n",
      "632\n",
      "703\n",
      "520\n",
      "190\n",
      "490\n"
     ]
    }
   ],
   "source": [
    "for id in reduced_dict:\n",
    "    print(len(reduced_dict[id]))"
   ]
  },
  {
   "cell_type": "markdown",
   "metadata": {},
   "source": [
    "## Part Five: Writing files"
   ]
  },
  {
   "cell_type": "code",
   "execution_count": null,
   "metadata": {},
   "outputs": [],
   "source": []
  }
 ],
 "metadata": {
  "kernelspec": {
   "display_name": "Python 3",
   "language": "python",
   "name": "python3"
  },
  "language_info": {
   "codemirror_mode": {
    "name": "ipython",
    "version": 3
   },
   "file_extension": ".py",
   "mimetype": "text/x-python",
   "name": "python",
   "nbconvert_exporter": "python",
   "pygments_lexer": "ipython3",
   "version": "3.7.3"
  }
 },
 "nbformat": 4,
 "nbformat_minor": 4
}
